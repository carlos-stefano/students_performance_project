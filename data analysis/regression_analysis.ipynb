{
 "cells": [
  {
   "cell_type": "markdown",
   "metadata": {},
   "source": [
    "# Regression"
   ]
  },
  {
   "cell_type": "code",
   "execution_count": 1,
   "metadata": {},
   "outputs": [
    {
     "name": "stderr",
     "output_type": "stream",
     "text": [
      "c:\\Users\\cstefano\\anaconda3\\lib\\site-packages\\statsmodels\\tsa\\base\\tsa_model.py:7: FutureWarning: pandas.Int64Index is deprecated and will be removed from pandas in a future version. Use pandas.Index with the appropriate dtype instead.\n",
      "  from pandas import (to_datetime, Int64Index, DatetimeIndex, Period,\n",
      "c:\\Users\\cstefano\\anaconda3\\lib\\site-packages\\statsmodels\\tsa\\base\\tsa_model.py:7: FutureWarning: pandas.Float64Index is deprecated and will be removed from pandas in a future version. Use pandas.Index with the appropriate dtype instead.\n",
      "  from pandas import (to_datetime, Int64Index, DatetimeIndex, Period,\n"
     ]
    }
   ],
   "source": [
    "import pandas as pd\n",
    "import numpy as np\n",
    "import joblib\n",
    "import statsmodels.api as sm\n",
    "import matplotlib.pyplot as plt\n",
    "import seaborn as sns\n",
    "import prince\n",
    "from scipy.stats import spearmanr\n",
    "\n",
    "from external_data_loading import get_siope_data \n",
    "from preprocess import correct_siope_indicators_by_inflation, load_and_process_data_for_analysis, get_dummies_for_categorical_variables, select_features_through_pca\n",
    "from sklearn.model_selection import train_test_split\n",
    "from statsmodels.regression.linear_model import OLS\n",
    "from sklearn.decomposition import PCA\n",
    "from sklearn.preprocessing import MinMaxScaler"
   ]
  },
  {
   "cell_type": "markdown",
   "metadata": {},
   "source": [
    "____"
   ]
  },
  {
   "cell_type": "code",
   "execution_count": 4,
   "metadata": {},
   "outputs": [],
   "source": [
    "# Definition of analysis focus\n",
    "years_to_analyze = np.arange(2015, 2023)\n",
    "time_windows = np.arange(0,16)"
   ]
  },
  {
   "cell_type": "code",
   "execution_count": 5,
   "metadata": {},
   "outputs": [],
   "source": [
    "# Loading SIOPE data, and correcting for inflation\n",
    "siope_df = get_siope_data(\"../Datasets/external-data/siope-data\")\n",
    "siope_df = correct_siope_indicators_by_inflation(siope_df)"
   ]
  },
  {
   "cell_type": "markdown",
   "metadata": {},
   "source": [
    "## FAMD"
   ]
  },
  {
   "cell_type": "markdown",
   "metadata": {},
   "source": [
    "### (i) SIOPE + ENEM features"
   ]
  },
  {
   "cell_type": "code",
   "execution_count": 15,
   "metadata": {},
   "outputs": [
    {
     "name": "stdout",
     "output_type": "stream",
     "text": [
      "Loading data for ENEM 2015\n",
      "Processing SIOPE data\n",
      "Merging ENEM and SIOPE data\n",
      "Ready to start analysis!\n",
      "Fitting FAMD\n",
      "Loading data for ENEM 2016\n",
      "Processing SIOPE data\n",
      "Merging ENEM and SIOPE data\n",
      "Ready to start analysis!\n",
      "Fitting FAMD\n",
      "Loading data for ENEM 2017\n",
      "Processing SIOPE data\n",
      "Merging ENEM and SIOPE data\n",
      "Ready to start analysis!\n",
      "Fitting FAMD\n",
      "Loading data for ENEM 2018\n",
      "Processing SIOPE data\n",
      "Merging ENEM and SIOPE data\n",
      "Ready to start analysis!\n",
      "Fitting FAMD\n",
      "Loading data for ENEM 2019\n",
      "Processing SIOPE data\n",
      "Merging ENEM and SIOPE data\n",
      "Ready to start analysis!\n",
      "Fitting FAMD\n",
      "Loading data for ENEM 2020\n",
      "Processing SIOPE data\n",
      "Merging ENEM and SIOPE data\n",
      "Ready to start analysis!\n",
      "Fitting FAMD\n",
      "Loading data for ENEM 2021\n",
      "Processing SIOPE data\n",
      "Merging ENEM and SIOPE data\n",
      "Ready to start analysis!\n",
      "Fitting FAMD\n",
      "Loading data for ENEM 2022\n",
      "Processing SIOPE data\n",
      "Merging ENEM and SIOPE data\n",
      "Ready to start analysis!\n",
      "Fitting FAMD\n"
     ]
    }
   ],
   "source": [
    "for year in years_to_analyze:\n",
    "    df = load_and_process_data_for_analysis_stepwise(year, siope_df, normalize = True)\n",
    "    famd = prince.FAMD(n_components = 10, random_state = 1)\n",
    "\n",
    "    print(\"Fitting FAMD\")\n",
    "    famd.fit(df.dropna().drop(columns = [\"Average score\", \"UF\"]).sample(frac = 0.7, random_state = 1))\n",
    "    joblib.dump(famd, f\"./variables_results/famd_{year}_10componentes_ENEM_and_SIOPE.pkl\")\n",
    "    "
   ]
  },
  {
   "cell_type": "markdown",
   "metadata": {},
   "source": [
    "#### OLR"
   ]
  },
  {
   "cell_type": "code",
   "execution_count": 27,
   "metadata": {},
   "outputs": [
    {
     "name": "stdout",
     "output_type": "stream",
     "text": [
      "Loading data for ENEM 2015\n",
      "Processing SIOPE data\n",
      "Merging ENEM and SIOPE data\n",
      "Ready to start analysis!\n"
     ]
    },
    {
     "ename": "ValueError",
     "evalue": "The indices for endog and exog are not aligned",
     "output_type": "error",
     "traceback": [
      "\u001b[1;31m---------------------------------------------------------------------------\u001b[0m",
      "\u001b[1;31mValueError\u001b[0m                                Traceback (most recent call last)",
      "\u001b[1;32m<ipython-input-27-a4a09ec76cc5>\u001b[0m in \u001b[0;36m<module>\u001b[1;34m\u001b[0m\n\u001b[0;32m      2\u001b[0m     \u001b[0mdf\u001b[0m \u001b[1;33m=\u001b[0m \u001b[0mload_and_process_data_for_analysis_stepwise\u001b[0m\u001b[1;33m(\u001b[0m\u001b[0myear\u001b[0m\u001b[1;33m,\u001b[0m \u001b[0msiope_df\u001b[0m\u001b[1;33m,\u001b[0m \u001b[0mnormalize\u001b[0m \u001b[1;33m=\u001b[0m \u001b[1;32mTrue\u001b[0m\u001b[1;33m)\u001b[0m\u001b[1;33m\u001b[0m\u001b[1;33m\u001b[0m\u001b[0m\n\u001b[0;32m      3\u001b[0m     \u001b[0mfamd\u001b[0m \u001b[1;33m=\u001b[0m \u001b[0mjoblib\u001b[0m\u001b[1;33m.\u001b[0m\u001b[0mload\u001b[0m\u001b[1;33m(\u001b[0m\u001b[1;34mf\"./variables_results/famd_{year}_10componentes_ENEM_and_SIOPE.pkl\"\u001b[0m\u001b[1;33m)\u001b[0m\u001b[1;33m\u001b[0m\u001b[1;33m\u001b[0m\u001b[0m\n\u001b[1;32m----> 4\u001b[1;33m     LR = OLS(\n\u001b[0m\u001b[0;32m      5\u001b[0m         \u001b[0mdf\u001b[0m\u001b[1;33m[\u001b[0m\u001b[1;34m\"Average score\"\u001b[0m\u001b[1;33m]\u001b[0m\u001b[1;33m,\u001b[0m\u001b[1;33m\u001b[0m\u001b[1;33m\u001b[0m\u001b[0m\n\u001b[0;32m      6\u001b[0m         \u001b[0mexog\u001b[0m \u001b[1;33m=\u001b[0m \u001b[0mfamd\u001b[0m\u001b[1;33m.\u001b[0m\u001b[0mtransform\u001b[0m\u001b[1;33m(\u001b[0m\u001b[0mdf\u001b[0m\u001b[1;33m.\u001b[0m\u001b[0mdropna\u001b[0m\u001b[1;33m(\u001b[0m\u001b[1;33m)\u001b[0m\u001b[1;33m.\u001b[0m\u001b[0mdrop\u001b[0m\u001b[1;33m(\u001b[0m\u001b[0mcolumns\u001b[0m \u001b[1;33m=\u001b[0m \u001b[1;34m\"Average score\"\u001b[0m\u001b[1;33m)\u001b[0m\u001b[1;33m)\u001b[0m\u001b[1;33m,\u001b[0m\u001b[1;33m\u001b[0m\u001b[1;33m\u001b[0m\u001b[0m\n",
      "\u001b[1;32mc:\\Users\\cstefano\\anaconda3\\lib\\site-packages\\statsmodels\\regression\\linear_model.py\u001b[0m in \u001b[0;36m__init__\u001b[1;34m(self, endog, exog, missing, hasconst, **kwargs)\u001b[0m\n\u001b[0;32m    870\u001b[0m     def __init__(self, endog, exog=None, missing='none', hasconst=None,\n\u001b[0;32m    871\u001b[0m                  **kwargs):\n\u001b[1;32m--> 872\u001b[1;33m         super(OLS, self).__init__(endog, exog, missing=missing,\n\u001b[0m\u001b[0;32m    873\u001b[0m                                   hasconst=hasconst, **kwargs)\n\u001b[0;32m    874\u001b[0m         \u001b[1;32mif\u001b[0m \u001b[1;34m\"weights\"\u001b[0m \u001b[1;32min\u001b[0m \u001b[0mself\u001b[0m\u001b[1;33m.\u001b[0m\u001b[0m_init_keys\u001b[0m\u001b[1;33m:\u001b[0m\u001b[1;33m\u001b[0m\u001b[1;33m\u001b[0m\u001b[0m\n",
      "\u001b[1;32mc:\\Users\\cstefano\\anaconda3\\lib\\site-packages\\statsmodels\\regression\\linear_model.py\u001b[0m in \u001b[0;36m__init__\u001b[1;34m(self, endog, exog, weights, missing, hasconst, **kwargs)\u001b[0m\n\u001b[0;32m    701\u001b[0m         \u001b[1;32melse\u001b[0m\u001b[1;33m:\u001b[0m\u001b[1;33m\u001b[0m\u001b[1;33m\u001b[0m\u001b[0m\n\u001b[0;32m    702\u001b[0m             \u001b[0mweights\u001b[0m \u001b[1;33m=\u001b[0m \u001b[0mweights\u001b[0m\u001b[1;33m.\u001b[0m\u001b[0msqueeze\u001b[0m\u001b[1;33m(\u001b[0m\u001b[1;33m)\u001b[0m\u001b[1;33m\u001b[0m\u001b[1;33m\u001b[0m\u001b[0m\n\u001b[1;32m--> 703\u001b[1;33m         super(WLS, self).__init__(endog, exog, missing=missing,\n\u001b[0m\u001b[0;32m    704\u001b[0m                                   weights=weights, hasconst=hasconst, **kwargs)\n\u001b[0;32m    705\u001b[0m         \u001b[0mnobs\u001b[0m \u001b[1;33m=\u001b[0m \u001b[0mself\u001b[0m\u001b[1;33m.\u001b[0m\u001b[0mexog\u001b[0m\u001b[1;33m.\u001b[0m\u001b[0mshape\u001b[0m\u001b[1;33m[\u001b[0m\u001b[1;36m0\u001b[0m\u001b[1;33m]\u001b[0m\u001b[1;33m\u001b[0m\u001b[1;33m\u001b[0m\u001b[0m\n",
      "\u001b[1;32mc:\\Users\\cstefano\\anaconda3\\lib\\site-packages\\statsmodels\\regression\\linear_model.py\u001b[0m in \u001b[0;36m__init__\u001b[1;34m(self, endog, exog, **kwargs)\u001b[0m\n\u001b[0;32m    188\u001b[0m     \"\"\"\n\u001b[0;32m    189\u001b[0m     \u001b[1;32mdef\u001b[0m \u001b[0m__init__\u001b[0m\u001b[1;33m(\u001b[0m\u001b[0mself\u001b[0m\u001b[1;33m,\u001b[0m \u001b[0mendog\u001b[0m\u001b[1;33m,\u001b[0m \u001b[0mexog\u001b[0m\u001b[1;33m,\u001b[0m \u001b[1;33m**\u001b[0m\u001b[0mkwargs\u001b[0m\u001b[1;33m)\u001b[0m\u001b[1;33m:\u001b[0m\u001b[1;33m\u001b[0m\u001b[1;33m\u001b[0m\u001b[0m\n\u001b[1;32m--> 190\u001b[1;33m         \u001b[0msuper\u001b[0m\u001b[1;33m(\u001b[0m\u001b[0mRegressionModel\u001b[0m\u001b[1;33m,\u001b[0m \u001b[0mself\u001b[0m\u001b[1;33m)\u001b[0m\u001b[1;33m.\u001b[0m\u001b[0m__init__\u001b[0m\u001b[1;33m(\u001b[0m\u001b[0mendog\u001b[0m\u001b[1;33m,\u001b[0m \u001b[0mexog\u001b[0m\u001b[1;33m,\u001b[0m \u001b[1;33m**\u001b[0m\u001b[0mkwargs\u001b[0m\u001b[1;33m)\u001b[0m\u001b[1;33m\u001b[0m\u001b[1;33m\u001b[0m\u001b[0m\n\u001b[0m\u001b[0;32m    191\u001b[0m         \u001b[0mself\u001b[0m\u001b[1;33m.\u001b[0m\u001b[0m_data_attr\u001b[0m\u001b[1;33m.\u001b[0m\u001b[0mextend\u001b[0m\u001b[1;33m(\u001b[0m\u001b[1;33m[\u001b[0m\u001b[1;34m'pinv_wexog'\u001b[0m\u001b[1;33m,\u001b[0m \u001b[1;34m'weights'\u001b[0m\u001b[1;33m]\u001b[0m\u001b[1;33m)\u001b[0m\u001b[1;33m\u001b[0m\u001b[1;33m\u001b[0m\u001b[0m\n\u001b[0;32m    192\u001b[0m \u001b[1;33m\u001b[0m\u001b[0m\n",
      "\u001b[1;32mc:\\Users\\cstefano\\anaconda3\\lib\\site-packages\\statsmodels\\base\\model.py\u001b[0m in \u001b[0;36m__init__\u001b[1;34m(self, endog, exog, **kwargs)\u001b[0m\n\u001b[0;32m    235\u001b[0m \u001b[1;33m\u001b[0m\u001b[0m\n\u001b[0;32m    236\u001b[0m     \u001b[1;32mdef\u001b[0m \u001b[0m__init__\u001b[0m\u001b[1;33m(\u001b[0m\u001b[0mself\u001b[0m\u001b[1;33m,\u001b[0m \u001b[0mendog\u001b[0m\u001b[1;33m,\u001b[0m \u001b[0mexog\u001b[0m\u001b[1;33m=\u001b[0m\u001b[1;32mNone\u001b[0m\u001b[1;33m,\u001b[0m \u001b[1;33m**\u001b[0m\u001b[0mkwargs\u001b[0m\u001b[1;33m)\u001b[0m\u001b[1;33m:\u001b[0m\u001b[1;33m\u001b[0m\u001b[1;33m\u001b[0m\u001b[0m\n\u001b[1;32m--> 237\u001b[1;33m         \u001b[0msuper\u001b[0m\u001b[1;33m(\u001b[0m\u001b[0mLikelihoodModel\u001b[0m\u001b[1;33m,\u001b[0m \u001b[0mself\u001b[0m\u001b[1;33m)\u001b[0m\u001b[1;33m.\u001b[0m\u001b[0m__init__\u001b[0m\u001b[1;33m(\u001b[0m\u001b[0mendog\u001b[0m\u001b[1;33m,\u001b[0m \u001b[0mexog\u001b[0m\u001b[1;33m,\u001b[0m \u001b[1;33m**\u001b[0m\u001b[0mkwargs\u001b[0m\u001b[1;33m)\u001b[0m\u001b[1;33m\u001b[0m\u001b[1;33m\u001b[0m\u001b[0m\n\u001b[0m\u001b[0;32m    238\u001b[0m         \u001b[0mself\u001b[0m\u001b[1;33m.\u001b[0m\u001b[0minitialize\u001b[0m\u001b[1;33m(\u001b[0m\u001b[1;33m)\u001b[0m\u001b[1;33m\u001b[0m\u001b[1;33m\u001b[0m\u001b[0m\n\u001b[0;32m    239\u001b[0m \u001b[1;33m\u001b[0m\u001b[0m\n",
      "\u001b[1;32mc:\\Users\\cstefano\\anaconda3\\lib\\site-packages\\statsmodels\\base\\model.py\u001b[0m in \u001b[0;36m__init__\u001b[1;34m(self, endog, exog, **kwargs)\u001b[0m\n\u001b[0;32m     75\u001b[0m         \u001b[0mmissing\u001b[0m \u001b[1;33m=\u001b[0m \u001b[0mkwargs\u001b[0m\u001b[1;33m.\u001b[0m\u001b[0mpop\u001b[0m\u001b[1;33m(\u001b[0m\u001b[1;34m'missing'\u001b[0m\u001b[1;33m,\u001b[0m \u001b[1;34m'none'\u001b[0m\u001b[1;33m)\u001b[0m\u001b[1;33m\u001b[0m\u001b[1;33m\u001b[0m\u001b[0m\n\u001b[0;32m     76\u001b[0m         \u001b[0mhasconst\u001b[0m \u001b[1;33m=\u001b[0m \u001b[0mkwargs\u001b[0m\u001b[1;33m.\u001b[0m\u001b[0mpop\u001b[0m\u001b[1;33m(\u001b[0m\u001b[1;34m'hasconst'\u001b[0m\u001b[1;33m,\u001b[0m \u001b[1;32mNone\u001b[0m\u001b[1;33m)\u001b[0m\u001b[1;33m\u001b[0m\u001b[1;33m\u001b[0m\u001b[0m\n\u001b[1;32m---> 77\u001b[1;33m         self.data = self._handle_data(endog, exog, missing, hasconst,\n\u001b[0m\u001b[0;32m     78\u001b[0m                                       **kwargs)\n\u001b[0;32m     79\u001b[0m         \u001b[0mself\u001b[0m\u001b[1;33m.\u001b[0m\u001b[0mk_constant\u001b[0m \u001b[1;33m=\u001b[0m \u001b[0mself\u001b[0m\u001b[1;33m.\u001b[0m\u001b[0mdata\u001b[0m\u001b[1;33m.\u001b[0m\u001b[0mk_constant\u001b[0m\u001b[1;33m\u001b[0m\u001b[1;33m\u001b[0m\u001b[0m\n",
      "\u001b[1;32mc:\\Users\\cstefano\\anaconda3\\lib\\site-packages\\statsmodels\\base\\model.py\u001b[0m in \u001b[0;36m_handle_data\u001b[1;34m(self, endog, exog, missing, hasconst, **kwargs)\u001b[0m\n\u001b[0;32m     99\u001b[0m \u001b[1;33m\u001b[0m\u001b[0m\n\u001b[0;32m    100\u001b[0m     \u001b[1;32mdef\u001b[0m \u001b[0m_handle_data\u001b[0m\u001b[1;33m(\u001b[0m\u001b[0mself\u001b[0m\u001b[1;33m,\u001b[0m \u001b[0mendog\u001b[0m\u001b[1;33m,\u001b[0m \u001b[0mexog\u001b[0m\u001b[1;33m,\u001b[0m \u001b[0mmissing\u001b[0m\u001b[1;33m,\u001b[0m \u001b[0mhasconst\u001b[0m\u001b[1;33m,\u001b[0m \u001b[1;33m**\u001b[0m\u001b[0mkwargs\u001b[0m\u001b[1;33m)\u001b[0m\u001b[1;33m:\u001b[0m\u001b[1;33m\u001b[0m\u001b[1;33m\u001b[0m\u001b[0m\n\u001b[1;32m--> 101\u001b[1;33m         \u001b[0mdata\u001b[0m \u001b[1;33m=\u001b[0m \u001b[0mhandle_data\u001b[0m\u001b[1;33m(\u001b[0m\u001b[0mendog\u001b[0m\u001b[1;33m,\u001b[0m \u001b[0mexog\u001b[0m\u001b[1;33m,\u001b[0m \u001b[0mmissing\u001b[0m\u001b[1;33m,\u001b[0m \u001b[0mhasconst\u001b[0m\u001b[1;33m,\u001b[0m \u001b[1;33m**\u001b[0m\u001b[0mkwargs\u001b[0m\u001b[1;33m)\u001b[0m\u001b[1;33m\u001b[0m\u001b[1;33m\u001b[0m\u001b[0m\n\u001b[0m\u001b[0;32m    102\u001b[0m         \u001b[1;31m# kwargs arrays could have changed, easier to just attach here\u001b[0m\u001b[1;33m\u001b[0m\u001b[1;33m\u001b[0m\u001b[1;33m\u001b[0m\u001b[0m\n\u001b[0;32m    103\u001b[0m         \u001b[1;32mfor\u001b[0m \u001b[0mkey\u001b[0m \u001b[1;32min\u001b[0m \u001b[0mkwargs\u001b[0m\u001b[1;33m:\u001b[0m\u001b[1;33m\u001b[0m\u001b[1;33m\u001b[0m\u001b[0m\n",
      "\u001b[1;32mc:\\Users\\cstefano\\anaconda3\\lib\\site-packages\\statsmodels\\base\\data.py\u001b[0m in \u001b[0;36mhandle_data\u001b[1;34m(endog, exog, missing, hasconst, **kwargs)\u001b[0m\n\u001b[0;32m    670\u001b[0m \u001b[1;33m\u001b[0m\u001b[0m\n\u001b[0;32m    671\u001b[0m     \u001b[0mklass\u001b[0m \u001b[1;33m=\u001b[0m \u001b[0mhandle_data_class_factory\u001b[0m\u001b[1;33m(\u001b[0m\u001b[0mendog\u001b[0m\u001b[1;33m,\u001b[0m \u001b[0mexog\u001b[0m\u001b[1;33m)\u001b[0m\u001b[1;33m\u001b[0m\u001b[1;33m\u001b[0m\u001b[0m\n\u001b[1;32m--> 672\u001b[1;33m     return klass(endog, exog=exog, missing=missing, hasconst=hasconst,\n\u001b[0m\u001b[0;32m    673\u001b[0m                  **kwargs)\n",
      "\u001b[1;32mc:\\Users\\cstefano\\anaconda3\\lib\\site-packages\\statsmodels\\base\\data.py\u001b[0m in \u001b[0;36m__init__\u001b[1;34m(self, endog, exog, missing, hasconst, **kwargs)\u001b[0m\n\u001b[0;32m     86\u001b[0m         \u001b[0mself\u001b[0m\u001b[1;33m.\u001b[0m\u001b[0mk_constant\u001b[0m \u001b[1;33m=\u001b[0m \u001b[1;36m0\u001b[0m\u001b[1;33m\u001b[0m\u001b[1;33m\u001b[0m\u001b[0m\n\u001b[0;32m     87\u001b[0m         \u001b[0mself\u001b[0m\u001b[1;33m.\u001b[0m\u001b[0m_handle_constant\u001b[0m\u001b[1;33m(\u001b[0m\u001b[0mhasconst\u001b[0m\u001b[1;33m)\u001b[0m\u001b[1;33m\u001b[0m\u001b[1;33m\u001b[0m\u001b[0m\n\u001b[1;32m---> 88\u001b[1;33m         \u001b[0mself\u001b[0m\u001b[1;33m.\u001b[0m\u001b[0m_check_integrity\u001b[0m\u001b[1;33m(\u001b[0m\u001b[1;33m)\u001b[0m\u001b[1;33m\u001b[0m\u001b[1;33m\u001b[0m\u001b[0m\n\u001b[0m\u001b[0;32m     89\u001b[0m         \u001b[0mself\u001b[0m\u001b[1;33m.\u001b[0m\u001b[0m_cache\u001b[0m \u001b[1;33m=\u001b[0m \u001b[1;33m{\u001b[0m\u001b[1;33m}\u001b[0m\u001b[1;33m\u001b[0m\u001b[1;33m\u001b[0m\u001b[0m\n\u001b[0;32m     90\u001b[0m \u001b[1;33m\u001b[0m\u001b[0m\n",
      "\u001b[1;32mc:\\Users\\cstefano\\anaconda3\\lib\\site-packages\\statsmodels\\base\\data.py\u001b[0m in \u001b[0;36m_check_integrity\u001b[1;34m(self)\u001b[0m\n\u001b[0;32m    530\u001b[0m                 \u001b[1;33m(\u001b[0m\u001b[0mhasattr\u001b[0m\u001b[1;33m(\u001b[0m\u001b[0mendog\u001b[0m\u001b[1;33m,\u001b[0m \u001b[1;34m'index'\u001b[0m\u001b[1;33m)\u001b[0m \u001b[1;32mand\u001b[0m \u001b[0mhasattr\u001b[0m\u001b[1;33m(\u001b[0m\u001b[0mexog\u001b[0m\u001b[1;33m,\u001b[0m \u001b[1;34m'index'\u001b[0m\u001b[1;33m)\u001b[0m\u001b[1;33m)\u001b[0m \u001b[1;32mand\u001b[0m\u001b[1;33m\u001b[0m\u001b[1;33m\u001b[0m\u001b[0m\n\u001b[0;32m    531\u001b[0m                 not self.orig_endog.index.equals(self.orig_exog.index)):\n\u001b[1;32m--> 532\u001b[1;33m             \u001b[1;32mraise\u001b[0m \u001b[0mValueError\u001b[0m\u001b[1;33m(\u001b[0m\u001b[1;34m\"The indices for endog and exog are not aligned\"\u001b[0m\u001b[1;33m)\u001b[0m\u001b[1;33m\u001b[0m\u001b[1;33m\u001b[0m\u001b[0m\n\u001b[0m\u001b[0;32m    533\u001b[0m         \u001b[0msuper\u001b[0m\u001b[1;33m(\u001b[0m\u001b[0mPandasData\u001b[0m\u001b[1;33m,\u001b[0m \u001b[0mself\u001b[0m\u001b[1;33m)\u001b[0m\u001b[1;33m.\u001b[0m\u001b[0m_check_integrity\u001b[0m\u001b[1;33m(\u001b[0m\u001b[1;33m)\u001b[0m\u001b[1;33m\u001b[0m\u001b[1;33m\u001b[0m\u001b[0m\n\u001b[0;32m    534\u001b[0m \u001b[1;33m\u001b[0m\u001b[0m\n",
      "\u001b[1;31mValueError\u001b[0m: The indices for endog and exog are not aligned"
     ]
    }
   ],
   "source": [
    "for year in years_to_analyze:\n",
    "    df = load_and_process_data_for_analysis_stepwise(year, siope_df, normalize = True)\n",
    "    famd = joblib.load(f\"./variables_results/famd_{year}_10componentes_ENEM_and_SIOPE.pkl\")\n",
    "    LR = OLS(\n",
    "        df[\"Average score\"].dropna(),\n",
    "        exog = famd.transform(df.dropna().drop(columns = \"Average score\")),\n",
    "        hasconst = False\n",
    "    ).fit()\n",
    "\n",
    "    joblib.dump(LR, f\"./variables_results/{year}_OLR_ENEM_and_SIOPE.pkl\")"
   ]
  },
  {
   "cell_type": "code",
   "execution_count": 20,
   "metadata": {},
   "outputs": [],
   "source": [
    "LR = OLS(\n",
    "    df[\"Average score\"],\n",
    "    exog = famd.transform(df.drop(columns = \"Average score\")),\n",
    "    hasconst = False\n",
    "    ).fit()"
   ]
  },
  {
   "cell_type": "code",
   "execution_count": 22,
   "metadata": {},
   "outputs": [
    {
     "data": {
      "text/plain": [
       "-17267749.074037664"
      ]
     },
     "execution_count": 22,
     "metadata": {},
     "output_type": "execute_result"
    }
   ],
   "source": [
    "LR.llf"
   ]
  },
  {
   "cell_type": "code",
   "execution_count": 21,
   "metadata": {},
   "outputs": [
    {
     "data": {
      "text/html": [
       "<table class=\"simpletable\">\n",
       "<caption>OLS Regression Results</caption>\n",
       "<tr>\n",
       "  <th>Dep. Variable:</th>      <td>Average score</td>  <th>  R-squared (uncentered):</th>       <td>   0.005</td>  \n",
       "</tr>\n",
       "<tr>\n",
       "  <th>Model:</th>                   <td>OLS</td>       <th>  Adj. R-squared (uncentered):</th>  <td>   0.005</td>  \n",
       "</tr>\n",
       "<tr>\n",
       "  <th>Method:</th>             <td>Least Squares</td>  <th>  F-statistic:       </th>           <td>   1160.</td>  \n",
       "</tr>\n",
       "<tr>\n",
       "  <th>Date:</th>             <td>Sat, 03 Feb 2024</td> <th>  Prob (F-statistic):</th>            <td>  0.00</td>   \n",
       "</tr>\n",
       "<tr>\n",
       "  <th>Time:</th>                 <td>21:39:42</td>     <th>  Log-Likelihood:    </th>          <td>-1.7268e+07</td>\n",
       "</tr>\n",
       "<tr>\n",
       "  <th>No. Observations:</th>      <td>2245649</td>     <th>  AIC:               </th>           <td>3.454e+07</td> \n",
       "</tr>\n",
       "<tr>\n",
       "  <th>Df Residuals:</th>          <td>2245639</td>     <th>  BIC:               </th>           <td>3.454e+07</td> \n",
       "</tr>\n",
       "<tr>\n",
       "  <th>Df Model:</th>              <td>    10</td>      <th>                     </th>               <td> </td>     \n",
       "</tr>\n",
       "<tr>\n",
       "  <th>Covariance Type:</th>      <td>nonrobust</td>    <th>                     </th>               <td> </td>     \n",
       "</tr>\n",
       "</table>\n",
       "<table class=\"simpletable\">\n",
       "<tr>\n",
       "  <td></td>     <th>coef</th>     <th>std err</th>      <th>t</th>      <th>P>|t|</th>  <th>[0.025</th>    <th>0.975]</th>  \n",
       "</tr>\n",
       "<tr>\n",
       "  <th>0</th> <td>    2.7124</td> <td>    0.028</td> <td>   95.459</td> <td> 0.000</td> <td>    2.657</td> <td>    2.768</td>\n",
       "</tr>\n",
       "<tr>\n",
       "  <th>1</th> <td>   -0.1250</td> <td>    0.044</td> <td>   -2.856</td> <td> 0.004</td> <td>   -0.211</td> <td>   -0.039</td>\n",
       "</tr>\n",
       "<tr>\n",
       "  <th>2</th> <td>   -2.0957</td> <td>    0.048</td> <td>  -43.614</td> <td> 0.000</td> <td>   -2.190</td> <td>   -2.002</td>\n",
       "</tr>\n",
       "<tr>\n",
       "  <th>3</th> <td>   -0.1429</td> <td>    0.055</td> <td>   -2.618</td> <td> 0.009</td> <td>   -0.250</td> <td>   -0.036</td>\n",
       "</tr>\n",
       "<tr>\n",
       "  <th>4</th> <td>   -0.0616</td> <td>    0.056</td> <td>   -1.090</td> <td> 0.276</td> <td>   -0.172</td> <td>    0.049</td>\n",
       "</tr>\n",
       "<tr>\n",
       "  <th>5</th> <td>    1.0732</td> <td>    0.060</td> <td>   17.869</td> <td> 0.000</td> <td>    0.955</td> <td>    1.191</td>\n",
       "</tr>\n",
       "<tr>\n",
       "  <th>6</th> <td>   -0.8820</td> <td>    0.062</td> <td>  -14.226</td> <td> 0.000</td> <td>   -1.004</td> <td>   -0.760</td>\n",
       "</tr>\n",
       "<tr>\n",
       "  <th>7</th> <td>   -0.3126</td> <td>    0.065</td> <td>   -4.842</td> <td> 0.000</td> <td>   -0.439</td> <td>   -0.186</td>\n",
       "</tr>\n",
       "<tr>\n",
       "  <th>8</th> <td>    0.3763</td> <td>    0.065</td> <td>    5.771</td> <td> 0.000</td> <td>    0.248</td> <td>    0.504</td>\n",
       "</tr>\n",
       "<tr>\n",
       "  <th>9</th> <td>    0.1070</td> <td>    0.068</td> <td>    1.570</td> <td> 0.116</td> <td>   -0.027</td> <td>    0.241</td>\n",
       "</tr>\n",
       "</table>\n",
       "<table class=\"simpletable\">\n",
       "<tr>\n",
       "  <th>Omnibus:</th>       <td>21789.691</td> <th>  Durbin-Watson:     </th> <td>   0.026</td> \n",
       "</tr>\n",
       "<tr>\n",
       "  <th>Prob(Omnibus):</th>  <td> 0.000</td>   <th>  Jarque-Bera (JB):  </th> <td>22728.059</td>\n",
       "</tr>\n",
       "<tr>\n",
       "  <th>Skew:</th>           <td> 0.231</td>   <th>  Prob(JB):          </th> <td>    0.00</td> \n",
       "</tr>\n",
       "<tr>\n",
       "  <th>Kurtosis:</th>       <td> 3.174</td>   <th>  Cond. No.          </th> <td>    2.40</td> \n",
       "</tr>\n",
       "</table><br/><br/>Notes:<br/>[1] R² is computed without centering (uncentered) since the model does not contain a constant.<br/>[2] Standard Errors assume that the covariance matrix of the errors is correctly specified."
      ],
      "text/plain": [
       "<class 'statsmodels.iolib.summary.Summary'>\n",
       "\"\"\"\n",
       "                                 OLS Regression Results                                \n",
       "=======================================================================================\n",
       "Dep. Variable:          Average score   R-squared (uncentered):                   0.005\n",
       "Model:                            OLS   Adj. R-squared (uncentered):              0.005\n",
       "Method:                 Least Squares   F-statistic:                              1160.\n",
       "Date:                Sat, 03 Feb 2024   Prob (F-statistic):                        0.00\n",
       "Time:                        21:39:42   Log-Likelihood:                     -1.7268e+07\n",
       "No. Observations:             2245649   AIC:                                  3.454e+07\n",
       "Df Residuals:                 2245639   BIC:                                  3.454e+07\n",
       "Df Model:                          10                                                  \n",
       "Covariance Type:            nonrobust                                                  \n",
       "==============================================================================\n",
       "                 coef    std err          t      P>|t|      [0.025      0.975]\n",
       "------------------------------------------------------------------------------\n",
       "0              2.7124      0.028     95.459      0.000       2.657       2.768\n",
       "1             -0.1250      0.044     -2.856      0.004      -0.211      -0.039\n",
       "2             -2.0957      0.048    -43.614      0.000      -2.190      -2.002\n",
       "3             -0.1429      0.055     -2.618      0.009      -0.250      -0.036\n",
       "4             -0.0616      0.056     -1.090      0.276      -0.172       0.049\n",
       "5              1.0732      0.060     17.869      0.000       0.955       1.191\n",
       "6             -0.8820      0.062    -14.226      0.000      -1.004      -0.760\n",
       "7             -0.3126      0.065     -4.842      0.000      -0.439      -0.186\n",
       "8              0.3763      0.065      5.771      0.000       0.248       0.504\n",
       "9              0.1070      0.068      1.570      0.116      -0.027       0.241\n",
       "==============================================================================\n",
       "Omnibus:                    21789.691   Durbin-Watson:                   0.026\n",
       "Prob(Omnibus):                  0.000   Jarque-Bera (JB):            22728.059\n",
       "Skew:                           0.231   Prob(JB):                         0.00\n",
       "Kurtosis:                       3.174   Cond. No.                         2.40\n",
       "==============================================================================\n",
       "\n",
       "Notes:\n",
       "[1] R² is computed without centering (uncentered) since the model does not contain a constant.\n",
       "[2] Standard Errors assume that the covariance matrix of the errors is correctly specified.\n",
       "\"\"\""
      ]
     },
     "execution_count": 21,
     "metadata": {},
     "output_type": "execute_result"
    }
   ],
   "source": [
    "LR.summary()"
   ]
  },
  {
   "cell_type": "code",
   "execution_count": 23,
   "metadata": {},
   "outputs": [],
   "source": [
    "y_true = df[\"Average score\"]\n",
    "y_pred = LR.predict(famd.transform(df.drop(columns = \"Average score\")))"
   ]
  },
  {
   "cell_type": "code",
   "execution_count": 24,
   "metadata": {},
   "outputs": [
    {
     "data": {
      "text/plain": [
       "<matplotlib.collections.PathCollection at 0x28aa8a116d0>"
      ]
     },
     "execution_count": 24,
     "metadata": {},
     "output_type": "execute_result"
    },
    {
     "data": {
      "image/png": "[encoded data removed]",
      "text/plain": [
       "<Figure size 432x288 with 1 Axes>"
      ]
     },
     "metadata": {
      "needs_background": "light"
     },
     "output_type": "display_data"
    }
   ],
   "source": [
    "plt.scatter(y_true, y_pred)"
   ]
  },
  {
   "cell_type": "markdown",
   "metadata": {},
   "source": []
  },
  {
   "cell_type": "code",
   "execution_count": 12,
   "metadata": {},
   "outputs": [],
   "source": [
    "def load_and_process_data_for_analysis_stepwise(year, siope_df, normalize = True, siope_only = False):\n",
    "    print(f\"Loading data for ENEM {year}\")\n",
    "    enem_df = joblib.load(f\"ENEM_preprocessed_{year}_based_on_SG_UF_PROVA.pkl\")\n",
    "    enem_df.drop(columns = [\"UF\", \"Natural Sciences score\", \"Humanities score\", \"Languages score\", \"Math score\"], inplace = True)\n",
    "    enem_df.rename(columns = {\"SG_UF_PROVA\": \"UF\"}, inplace = True)\n",
    "\n",
    "    # get metrics average values over last 'window' years\n",
    "    print(f\"Processing SIOPE data\")\n",
    "    siope_df2 = siope_df[(siope_df[\"year\"] <= year)][[\"UF\", \"metric_description\", \"metric_value\", \"year\"]]\n",
    "\n",
    "    # Let us mark each feature with the corresponding year\n",
    "    siope_df2['siope_features'] = siope_df2.apply(lambda x: x[\"metric_description\"] + f'_{year - x[\"year\"]}y', axis = 1)\n",
    "    siope_df2 = siope_df2[[\"UF\", \"siope_features\", \"metric_value\"]]\n",
    "    \n",
    "    # Normalization\n",
    "    if normalize:\n",
    "        siope_df2 = ((siope_df2.pivot(index = \"UF\", columns = \"siope_features\", values = 'metric_value') - siope_df2.pivot(index = \"UF\", columns = \"siope_features\", values = 'metric_value').mean())/siope_df2.pivot(index = \"UF\", columns = \"siope_features\", values = 'metric_value').std())\n",
    "        siope_df2.reset_index(names = \"UF\", inplace = True)\n",
    "    else:\n",
    "        siope_df2 = siope_df2.pivot(index = \"UF\", columns = \"siope_features\", values = 'metric_value').reset_index(names = \"UF\")\n",
    "\n",
    "    # Discard metrics to which there are null values (generally, UF's that are not in SIOPE's database for these years)\n",
    "    siope_metrics_to_discard = (siope_df2.isna().sum() > 0).where(lambda x: x == True).dropna().index\n",
    "    siope_df2.drop(columns = siope_metrics_to_discard, inplace = True)\n",
    "\n",
    "    print(f\"Merging ENEM and SIOPE data\")\n",
    "    enem_df = enem_df.merge(siope_df2, on = \"UF\", how = \"inner\")\n",
    "    if siope_only:\n",
    "        features_to_use = [siope_feature for siope_feature in siope_df2.columns]\n",
    "        features_to_use.append(\"Average score\")\n",
    "        enem_df = enem_df[features_to_use]\n",
    "\n",
    "    print(\"Ready to start analysis!\")\n",
    "    return enem_df"
   ]
  },
  {
   "cell_type": "code",
   "execution_count": 87,
   "metadata": {},
   "outputs": [
    {
     "name": "stdout",
     "output_type": "stream",
     "text": [
      "Loading data for ENEM 2022\n",
      "Processing SIOPE data\n",
      "Merging ENEM and SIOPE data\n",
      "Ready to start analysis!\n"
     ]
    }
   ],
   "source": [
    "df = load_and_process_data_for_analysis_stepwise(2022, siope_df, normalize = False)"
   ]
  },
  {
   "cell_type": "code",
   "execution_count": 90,
   "metadata": {},
   "outputs": [],
   "source": [
    "def corr_spearman(x,y):\n",
    "    return spearmanr(x,y)[0]"
   ]
  },
  {
   "cell_type": "code",
   "execution_count": 94,
   "metadata": {},
   "outputs": [
    {
     "name": "stdout",
     "output_type": "stream",
     "text": [
      "Loading data for ENEM 2015\n",
      "Processing SIOPE data\n",
      "Merging ENEM and SIOPE data\n",
      "Ready to start analysis!\n",
      "------------------------------\n",
      "Loading data for ENEM 2016\n",
      "Processing SIOPE data\n",
      "Merging ENEM and SIOPE data\n",
      "Ready to start analysis!\n",
      "------------------------------\n",
      "Loading data for ENEM 2017\n",
      "Processing SIOPE data\n",
      "Merging ENEM and SIOPE data\n",
      "Ready to start analysis!\n",
      "------------------------------\n",
      "Loading data for ENEM 2018\n",
      "Processing SIOPE data\n",
      "Merging ENEM and SIOPE data\n",
      "Ready to start analysis!\n",
      "------------------------------\n",
      "Loading data for ENEM 2019\n",
      "Processing SIOPE data\n",
      "Merging ENEM and SIOPE data\n",
      "Ready to start analysis!\n",
      "------------------------------\n",
      "Loading data for ENEM 2020\n",
      "Processing SIOPE data\n",
      "Merging ENEM and SIOPE data\n",
      "Ready to start analysis!\n",
      "------------------------------\n",
      "Loading data for ENEM 2021\n",
      "Processing SIOPE data\n",
      "Merging ENEM and SIOPE data\n",
      "Ready to start analysis!\n",
      "------------------------------\n",
      "Loading data for ENEM 2022\n",
      "Processing SIOPE data\n",
      "Merging ENEM and SIOPE data\n",
      "Ready to start analysis!\n",
      "------------------------------\n"
     ]
    }
   ],
   "source": [
    "for year in years_to_analyze:\n",
    "    df = load_and_process_data_for_analysis_stepwise(year, siope_df, normalize = False)\n",
    "    R = df.corr(method = \"spearman\", numeric_only = True)\n",
    "    joblib.dump(R, f\"./variables_results/{year}_SIOPE_only_correlations_with_performance.pkl\")\n",
    "    print(\"-\"*30)\n",
    "    del R"
   ]
  },
  {
   "cell_type": "code",
   "execution_count": 97,
   "metadata": {},
   "outputs": [],
   "source": [
    "R = joblib.load(\"./variables_results/2022_SIOPE_only_correlations_with_performance.pkl\")"
   ]
  },
  {
   "cell_type": "code",
   "execution_count": 108,
   "metadata": {},
   "outputs": [
    {
     "data": {
      "text/html": [
       "<div>\n",
       "<style scoped>\n",
       "    .dataframe tbody tr th:only-of-type {\n",
       "        vertical-align: middle;\n",
       "    }\n",
       "\n",
       "    .dataframe tbody tr th {\n",
       "        vertical-align: top;\n",
       "    }\n",
       "\n",
       "    .dataframe thead th {\n",
       "        text-align: right;\n",
       "    }\n",
       "</style>\n",
       "<table border=\"1\" class=\"dataframe\">\n",
       "  <thead>\n",
       "    <tr style=\"text-align: right;\">\n",
       "      <th></th>\n",
       "      <th>Average score</th>\n",
       "      <th>year</th>\n",
       "    </tr>\n",
       "  </thead>\n",
       "  <tbody>\n",
       "    <tr>\n",
       "      <th>investment_per_student_14y</th>\n",
       "      <td>0.167901</td>\n",
       "      <td>2022</td>\n",
       "    </tr>\n",
       "    <tr>\n",
       "      <th>investment_per_student_13y</th>\n",
       "      <td>0.167475</td>\n",
       "      <td>2022</td>\n",
       "    </tr>\n",
       "    <tr>\n",
       "      <th>EB_investment_per_student_14y</th>\n",
       "      <td>0.166706</td>\n",
       "      <td>2022</td>\n",
       "    </tr>\n",
       "    <tr>\n",
       "      <th>investment_per_student_11y</th>\n",
       "      <td>0.153133</td>\n",
       "      <td>2022</td>\n",
       "    </tr>\n",
       "    <tr>\n",
       "      <th>EB_investment_per_student_13y</th>\n",
       "      <td>0.150917</td>\n",
       "      <td>2022</td>\n",
       "    </tr>\n",
       "    <tr>\n",
       "      <th>EB_non_teaching_staff_per_student_expanses_13y</th>\n",
       "      <td>0.147292</td>\n",
       "      <td>2022</td>\n",
       "    </tr>\n",
       "    <tr>\n",
       "      <th>investment_per_student_10y</th>\n",
       "      <td>0.146901</td>\n",
       "      <td>2022</td>\n",
       "    </tr>\n",
       "    <tr>\n",
       "      <th>EB_investment_per_student_11y</th>\n",
       "      <td>0.140748</td>\n",
       "      <td>2022</td>\n",
       "    </tr>\n",
       "    <tr>\n",
       "      <th>EB_investment_per_student_10y</th>\n",
       "      <td>0.133461</td>\n",
       "      <td>2022</td>\n",
       "    </tr>\n",
       "    <tr>\n",
       "      <th>EB_non_teaching_staff_per_student_expanses_11y</th>\n",
       "      <td>0.133278</td>\n",
       "      <td>2022</td>\n",
       "    </tr>\n",
       "  </tbody>\n",
       "</table>\n",
       "</div>"
      ],
      "text/plain": [
       "                                                Average score  year\n",
       "investment_per_student_14y                           0.167901  2022\n",
       "investment_per_student_13y                           0.167475  2022\n",
       "EB_investment_per_student_14y                        0.166706  2022\n",
       "investment_per_student_11y                           0.153133  2022\n",
       "EB_investment_per_student_13y                        0.150917  2022\n",
       "EB_non_teaching_staff_per_student_expanses_13y       0.147292  2022\n",
       "investment_per_student_10y                           0.146901  2022\n",
       "EB_investment_per_student_11y                        0.140748  2022\n",
       "EB_investment_per_student_10y                        0.133461  2022\n",
       "EB_non_teaching_staff_per_student_expanses_11y       0.133278  2022"
      ]
     },
     "execution_count": 108,
     "metadata": {},
     "output_type": "execute_result"
    }
   ],
   "source": [
    "aux = abs(R[\"Average score\"].drop(\"Average score\").sort_values(ascending = False))[0:10]\n",
    "pd.concat([aux, pd.Series(2022, index=aux.index, name=\"year\")], axis = 1)"
   ]
  },
  {
   "cell_type": "code",
   "execution_count": 122,
   "metadata": {},
   "outputs": [
    {
     "data": {
      "text/plain": [
       "investment_per_student_14y                        0.167901\n",
       "investment_per_student_13y                        0.167475\n",
       "EB_investment_per_student_14y                     0.166706\n",
       "investment_per_student_11y                        0.153133\n",
       "EB_investment_per_student_13y                     0.150917\n",
       "EB_non_teaching_staff_per_student_expanses_13y    0.147292\n",
       "investment_per_student_10y                        0.146901\n",
       "EB_investment_per_student_11y                     0.140748\n",
       "EB_investment_per_student_10y                     0.133461\n",
       "EB_non_teaching_staff_per_student_expanses_11y    0.133278\n",
       "Name: Average score, dtype: float64"
      ]
     },
     "execution_count": 122,
     "metadata": {},
     "output_type": "execute_result"
    }
   ],
   "source": [
    "abs(R[\"Average score\"].drop(\"Average score\").sort_values(ascending = False))[0:10]"
   ]
  },
  {
   "cell_type": "code",
   "execution_count": 113,
   "metadata": {},
   "outputs": [
    {
     "name": "stdout",
     "output_type": "stream",
     "text": [
      "2015\n",
      "2016\n",
      "2017\n",
      "2018\n",
      "2019\n",
      "2020\n",
      "2021\n",
      "2022\n"
     ]
    }
   ],
   "source": [
    "top_features_corrs = pd.DataFrame()\n",
    "for year in years_to_analyze:\n",
    "    print(year)\n",
    "    R = joblib.load(f\"./variables_results/{year}_SIOPE_only_correlations_with_performance.pkl\")\n",
    "    aux = abs(R[\"Average score\"].drop(\"Average score\").sort_values(ascending = False))[0:10]\n",
    "    aux = pd.concat([aux, pd.Series(year, index=aux.index, name=\"year\")], axis = 1)\n",
    "    top_features_corrs = pd.concat([top_features_corrs, aux], axis = 0)"
   ]
  },
  {
   "cell_type": "code",
   "execution_count": 117,
   "metadata": {},
   "outputs": [
    {
     "data": {
      "text/html": [
       "<div>\n",
       "<style scoped>\n",
       "    .dataframe tbody tr th:only-of-type {\n",
       "        vertical-align: middle;\n",
       "    }\n",
       "\n",
       "    .dataframe tbody tr th {\n",
       "        vertical-align: top;\n",
       "    }\n",
       "\n",
       "    .dataframe thead th {\n",
       "        text-align: right;\n",
       "    }\n",
       "</style>\n",
       "<table border=\"1\" class=\"dataframe\">\n",
       "  <thead>\n",
       "    <tr style=\"text-align: right;\">\n",
       "      <th></th>\n",
       "      <th>feature</th>\n",
       "      <th>Average score</th>\n",
       "      <th>year</th>\n",
       "    </tr>\n",
       "  </thead>\n",
       "  <tbody>\n",
       "    <tr>\n",
       "      <th>0</th>\n",
       "      <td>investment_per_student_6y</td>\n",
       "      <td>0.129747</td>\n",
       "      <td>2015</td>\n",
       "    </tr>\n",
       "    <tr>\n",
       "      <th>1</th>\n",
       "      <td>investment_per_student_7y</td>\n",
       "      <td>0.129463</td>\n",
       "      <td>2015</td>\n",
       "    </tr>\n",
       "    <tr>\n",
       "      <th>2</th>\n",
       "      <td>EB_investment_per_student_7y</td>\n",
       "      <td>0.126302</td>\n",
       "      <td>2015</td>\n",
       "    </tr>\n",
       "    <tr>\n",
       "      <th>3</th>\n",
       "      <td>EB_non_teaching_staff_per_student_expanses_6y</td>\n",
       "      <td>0.125532</td>\n",
       "      <td>2015</td>\n",
       "    </tr>\n",
       "    <tr>\n",
       "      <th>4</th>\n",
       "      <td>investment_per_student_4y</td>\n",
       "      <td>0.118902</td>\n",
       "      <td>2015</td>\n",
       "    </tr>\n",
       "    <tr>\n",
       "      <th>...</th>\n",
       "      <td>...</td>\n",
       "      <td>...</td>\n",
       "      <td>...</td>\n",
       "    </tr>\n",
       "    <tr>\n",
       "      <th>75</th>\n",
       "      <td>EB_non_teaching_staff_per_student_expanses_13y</td>\n",
       "      <td>0.147292</td>\n",
       "      <td>2022</td>\n",
       "    </tr>\n",
       "    <tr>\n",
       "      <th>76</th>\n",
       "      <td>investment_per_student_10y</td>\n",
       "      <td>0.146901</td>\n",
       "      <td>2022</td>\n",
       "    </tr>\n",
       "    <tr>\n",
       "      <th>77</th>\n",
       "      <td>EB_investment_per_student_11y</td>\n",
       "      <td>0.140748</td>\n",
       "      <td>2022</td>\n",
       "    </tr>\n",
       "    <tr>\n",
       "      <th>78</th>\n",
       "      <td>EB_investment_per_student_10y</td>\n",
       "      <td>0.133461</td>\n",
       "      <td>2022</td>\n",
       "    </tr>\n",
       "    <tr>\n",
       "      <th>79</th>\n",
       "      <td>EB_non_teaching_staff_per_student_expanses_11y</td>\n",
       "      <td>0.133278</td>\n",
       "      <td>2022</td>\n",
       "    </tr>\n",
       "  </tbody>\n",
       "</table>\n",
       "<p>80 rows × 3 columns</p>\n",
       "</div>"
      ],
      "text/plain": [
       "                                           feature  Average score  year\n",
       "0                        investment_per_student_6y       0.129747  2015\n",
       "1                        investment_per_student_7y       0.129463  2015\n",
       "2                     EB_investment_per_student_7y       0.126302  2015\n",
       "3    EB_non_teaching_staff_per_student_expanses_6y       0.125532  2015\n",
       "4                        investment_per_student_4y       0.118902  2015\n",
       "..                                             ...            ...   ...\n",
       "75  EB_non_teaching_staff_per_student_expanses_13y       0.147292  2022\n",
       "76                      investment_per_student_10y       0.146901  2022\n",
       "77                   EB_investment_per_student_11y       0.140748  2022\n",
       "78                   EB_investment_per_student_10y       0.133461  2022\n",
       "79  EB_non_teaching_staff_per_student_expanses_11y       0.133278  2022\n",
       "\n",
       "[80 rows x 3 columns]"
      ]
     },
     "execution_count": 117,
     "metadata": {},
     "output_type": "execute_result"
    }
   ],
   "source": [
    "top_features_corrs.reset_index(names=\"feature\")"
   ]
  },
  {
   "cell_type": "code",
   "execution_count": 119,
   "metadata": {},
   "outputs": [
    {
     "data": {
      "text/plain": [
       "<AxesSubplot: xlabel='year', ylabel='feature'>"
      ]
     },
     "execution_count": 119,
     "metadata": {},
     "output_type": "execute_result"
    },
    {
     "data": {
      "image/png": "[encoded data removed]",
      "text/plain": [
       "<Figure size 432x288 with 2 Axes>"
      ]
     },
     "metadata": {
      "needs_background": "light"
     },
     "output_type": "display_data"
    }
   ],
   "source": [
    "sns.heatmap(top_features_corrs.reset_index(names=\"feature\").pivot(index = \"feature\", columns = \"year\", values = \"Average score\"))"
   ]
  },
  {
   "cell_type": "code",
   "execution_count": null,
   "metadata": {},
   "outputs": [],
   "source": [
    "_, ax = plt.subplots(1,1, figsize = (8,6))\n",
    "i = 0\n",
    "for pc in [\"PC1\", \"PC2\", \"PC4\"]:\n",
    "    top_features_weights = get_top_features_df(weights_df, years_to_analyze, pc, 15)\n",
    "    sns.heatmap(top_features_weights.pivot(index = \"feature\", columns = \"year\", values = \"rel_weight\").fillna(-10).rename(index = renaming_dict),\n",
    "            cmap = 'viridis', vmin = 0, vmax = 30, ax = ax[i], yticklabels = True)\n",
    "    ax[i].set_ylabel(\"\")\n",
    "    ax[i].set_xlabel(\"\")\n",
    "    i += 1  \n",
    "plt.tight_layout()"
   ]
  },
  {
   "cell_type": "code",
   "execution_count": 8,
   "metadata": {},
   "outputs": [
    {
     "data": {
      "text/html": [
       "<div>\n",
       "<style scoped>\n",
       "    .dataframe tbody tr th:only-of-type {\n",
       "        vertical-align: middle;\n",
       "    }\n",
       "\n",
       "    .dataframe tbody tr th {\n",
       "        vertical-align: top;\n",
       "    }\n",
       "\n",
       "    .dataframe thead th {\n",
       "        text-align: right;\n",
       "    }\n",
       "</style>\n",
       "<table border=\"1\" class=\"dataframe\">\n",
       "  <thead>\n",
       "    <tr style=\"text-align: right;\">\n",
       "      <th></th>\n",
       "      <th>Average score</th>\n",
       "      <th>EB_expanses_teacher_per_student_10y</th>\n",
       "      <th>EB_expanses_teacher_per_student_11y</th>\n",
       "      <th>EB_expanses_teacher_per_student_13y</th>\n",
       "      <th>EB_expanses_teacher_per_student_14y</th>\n",
       "      <th>EB_investment_per_student_10y</th>\n",
       "      <th>EB_investment_per_student_11y</th>\n",
       "      <th>EB_investment_per_student_13y</th>\n",
       "      <th>EB_investment_per_student_14y</th>\n",
       "      <th>EB_non_teaching_staff_per_student_expanses_10y</th>\n",
       "      <th>...</th>\n",
       "      <th>investment_per_student_11y</th>\n",
       "      <th>investment_per_student_13y</th>\n",
       "      <th>investment_per_student_14y</th>\n",
       "      <th>scholar_nutrition_to_total_education_expanses_10y</th>\n",
       "      <th>scholar_nutrition_to_total_education_expanses_11y</th>\n",
       "      <th>scholar_nutrition_to_total_education_expanses_13y</th>\n",
       "      <th>scholar_nutrition_to_total_education_expanses_14y</th>\n",
       "      <th>superavit_or_deficit_10y</th>\n",
       "      <th>superavit_or_deficit_11y</th>\n",
       "      <th>superavit_or_deficit_13y</th>\n",
       "    </tr>\n",
       "  </thead>\n",
       "  <tbody>\n",
       "    <tr>\n",
       "      <th>0</th>\n",
       "      <td>507.800</td>\n",
       "      <td>1425.589302</td>\n",
       "      <td>1340.413144</td>\n",
       "      <td>1190.32977</td>\n",
       "      <td>1029.311997</td>\n",
       "      <td>2695.60318</td>\n",
       "      <td>2533.641508</td>\n",
       "      <td>1660.488603</td>\n",
       "      <td>1950.159672</td>\n",
       "      <td>48.65024</td>\n",
       "      <td>...</td>\n",
       "      <td>3158.466884</td>\n",
       "      <td>2136.934389</td>\n",
       "      <td>2016.730209</td>\n",
       "      <td>0.06</td>\n",
       "      <td>0.0</td>\n",
       "      <td>0.07</td>\n",
       "      <td>0.15</td>\n",
       "      <td>1.281694e+09</td>\n",
       "      <td>-5.509535e+07</td>\n",
       "      <td>5.351662e+07</td>\n",
       "    </tr>\n",
       "    <tr>\n",
       "      <th>1</th>\n",
       "      <td>426.950</td>\n",
       "      <td>1425.589302</td>\n",
       "      <td>1340.413144</td>\n",
       "      <td>1190.32977</td>\n",
       "      <td>1029.311997</td>\n",
       "      <td>2695.60318</td>\n",
       "      <td>2533.641508</td>\n",
       "      <td>1660.488603</td>\n",
       "      <td>1950.159672</td>\n",
       "      <td>48.65024</td>\n",
       "      <td>...</td>\n",
       "      <td>3158.466884</td>\n",
       "      <td>2136.934389</td>\n",
       "      <td>2016.730209</td>\n",
       "      <td>0.06</td>\n",
       "      <td>0.0</td>\n",
       "      <td>0.07</td>\n",
       "      <td>0.15</td>\n",
       "      <td>1.281694e+09</td>\n",
       "      <td>-5.509535e+07</td>\n",
       "      <td>5.351662e+07</td>\n",
       "    </tr>\n",
       "    <tr>\n",
       "      <th>2</th>\n",
       "      <td>525.675</td>\n",
       "      <td>1425.589302</td>\n",
       "      <td>1340.413144</td>\n",
       "      <td>1190.32977</td>\n",
       "      <td>1029.311997</td>\n",
       "      <td>2695.60318</td>\n",
       "      <td>2533.641508</td>\n",
       "      <td>1660.488603</td>\n",
       "      <td>1950.159672</td>\n",
       "      <td>48.65024</td>\n",
       "      <td>...</td>\n",
       "      <td>3158.466884</td>\n",
       "      <td>2136.934389</td>\n",
       "      <td>2016.730209</td>\n",
       "      <td>0.06</td>\n",
       "      <td>0.0</td>\n",
       "      <td>0.07</td>\n",
       "      <td>0.15</td>\n",
       "      <td>1.281694e+09</td>\n",
       "      <td>-5.509535e+07</td>\n",
       "      <td>5.351662e+07</td>\n",
       "    </tr>\n",
       "    <tr>\n",
       "      <th>3</th>\n",
       "      <td>442.350</td>\n",
       "      <td>1425.589302</td>\n",
       "      <td>1340.413144</td>\n",
       "      <td>1190.32977</td>\n",
       "      <td>1029.311997</td>\n",
       "      <td>2695.60318</td>\n",
       "      <td>2533.641508</td>\n",
       "      <td>1660.488603</td>\n",
       "      <td>1950.159672</td>\n",
       "      <td>48.65024</td>\n",
       "      <td>...</td>\n",
       "      <td>3158.466884</td>\n",
       "      <td>2136.934389</td>\n",
       "      <td>2016.730209</td>\n",
       "      <td>0.06</td>\n",
       "      <td>0.0</td>\n",
       "      <td>0.07</td>\n",
       "      <td>0.15</td>\n",
       "      <td>1.281694e+09</td>\n",
       "      <td>-5.509535e+07</td>\n",
       "      <td>5.351662e+07</td>\n",
       "    </tr>\n",
       "    <tr>\n",
       "      <th>4</th>\n",
       "      <td>475.000</td>\n",
       "      <td>1425.589302</td>\n",
       "      <td>1340.413144</td>\n",
       "      <td>1190.32977</td>\n",
       "      <td>1029.311997</td>\n",
       "      <td>2695.60318</td>\n",
       "      <td>2533.641508</td>\n",
       "      <td>1660.488603</td>\n",
       "      <td>1950.159672</td>\n",
       "      <td>48.65024</td>\n",
       "      <td>...</td>\n",
       "      <td>3158.466884</td>\n",
       "      <td>2136.934389</td>\n",
       "      <td>2016.730209</td>\n",
       "      <td>0.06</td>\n",
       "      <td>0.0</td>\n",
       "      <td>0.07</td>\n",
       "      <td>0.15</td>\n",
       "      <td>1.281694e+09</td>\n",
       "      <td>-5.509535e+07</td>\n",
       "      <td>5.351662e+07</td>\n",
       "    </tr>\n",
       "  </tbody>\n",
       "</table>\n",
       "<p>5 rows × 79 columns</p>\n",
       "</div>"
      ],
      "text/plain": [
       "   Average score  EB_expanses_teacher_per_student_10y  \\\n",
       "0        507.800                          1425.589302   \n",
       "1        426.950                          1425.589302   \n",
       "2        525.675                          1425.589302   \n",
       "3        442.350                          1425.589302   \n",
       "4        475.000                          1425.589302   \n",
       "\n",
       "   EB_expanses_teacher_per_student_11y  EB_expanses_teacher_per_student_13y  \\\n",
       "0                          1340.413144                           1190.32977   \n",
       "1                          1340.413144                           1190.32977   \n",
       "2                          1340.413144                           1190.32977   \n",
       "3                          1340.413144                           1190.32977   \n",
       "4                          1340.413144                           1190.32977   \n",
       "\n",
       "   EB_expanses_teacher_per_student_14y  EB_investment_per_student_10y  \\\n",
       "0                          1029.311997                     2695.60318   \n",
       "1                          1029.311997                     2695.60318   \n",
       "2                          1029.311997                     2695.60318   \n",
       "3                          1029.311997                     2695.60318   \n",
       "4                          1029.311997                     2695.60318   \n",
       "\n",
       "   EB_investment_per_student_11y  EB_investment_per_student_13y  \\\n",
       "0                    2533.641508                    1660.488603   \n",
       "1                    2533.641508                    1660.488603   \n",
       "2                    2533.641508                    1660.488603   \n",
       "3                    2533.641508                    1660.488603   \n",
       "4                    2533.641508                    1660.488603   \n",
       "\n",
       "   EB_investment_per_student_14y  \\\n",
       "0                    1950.159672   \n",
       "1                    1950.159672   \n",
       "2                    1950.159672   \n",
       "3                    1950.159672   \n",
       "4                    1950.159672   \n",
       "\n",
       "   EB_non_teaching_staff_per_student_expanses_10y  ...  \\\n",
       "0                                        48.65024  ...   \n",
       "1                                        48.65024  ...   \n",
       "2                                        48.65024  ...   \n",
       "3                                        48.65024  ...   \n",
       "4                                        48.65024  ...   \n",
       "\n",
       "   investment_per_student_11y  investment_per_student_13y  \\\n",
       "0                 3158.466884                 2136.934389   \n",
       "1                 3158.466884                 2136.934389   \n",
       "2                 3158.466884                 2136.934389   \n",
       "3                 3158.466884                 2136.934389   \n",
       "4                 3158.466884                 2136.934389   \n",
       "\n",
       "   investment_per_student_14y  \\\n",
       "0                 2016.730209   \n",
       "1                 2016.730209   \n",
       "2                 2016.730209   \n",
       "3                 2016.730209   \n",
       "4                 2016.730209   \n",
       "\n",
       "   scholar_nutrition_to_total_education_expanses_10y  \\\n",
       "0                                               0.06   \n",
       "1                                               0.06   \n",
       "2                                               0.06   \n",
       "3                                               0.06   \n",
       "4                                               0.06   \n",
       "\n",
       "   scholar_nutrition_to_total_education_expanses_11y  \\\n",
       "0                                                0.0   \n",
       "1                                                0.0   \n",
       "2                                                0.0   \n",
       "3                                                0.0   \n",
       "4                                                0.0   \n",
       "\n",
       "   scholar_nutrition_to_total_education_expanses_13y  \\\n",
       "0                                               0.07   \n",
       "1                                               0.07   \n",
       "2                                               0.07   \n",
       "3                                               0.07   \n",
       "4                                               0.07   \n",
       "\n",
       "   scholar_nutrition_to_total_education_expanses_14y  \\\n",
       "0                                               0.15   \n",
       "1                                               0.15   \n",
       "2                                               0.15   \n",
       "3                                               0.15   \n",
       "4                                               0.15   \n",
       "\n",
       "   superavit_or_deficit_10y  superavit_or_deficit_11y  \\\n",
       "0              1.281694e+09             -5.509535e+07   \n",
       "1              1.281694e+09             -5.509535e+07   \n",
       "2              1.281694e+09             -5.509535e+07   \n",
       "3              1.281694e+09             -5.509535e+07   \n",
       "4              1.281694e+09             -5.509535e+07   \n",
       "\n",
       "   superavit_or_deficit_13y  \n",
       "0              5.351662e+07  \n",
       "1              5.351662e+07  \n",
       "2              5.351662e+07  \n",
       "3              5.351662e+07  \n",
       "4              5.351662e+07  \n",
       "\n",
       "[5 rows x 79 columns]"
      ]
     },
     "execution_count": 8,
     "metadata": {},
     "output_type": "execute_result"
    }
   ],
   "source": [
    "df2 = df.iloc[:, 34:].drop(columns = \"ENEM_year\")\n",
    "df2.head()"
   ]
  },
  {
   "cell_type": "code",
   "execution_count": 9,
   "metadata": {},
   "outputs": [],
   "source": [
    "R = df2.corr(method = 'spearman')"
   ]
  },
  {
   "cell_type": "code",
   "execution_count": 22,
   "metadata": {},
   "outputs": [
    {
     "data": {
      "text/plain": [
       "investment_per_student_14y                        0.167901\n",
       "investment_per_student_13y                        0.167475\n",
       "EB_investment_per_student_14y                     0.166706\n",
       "FUNDEB_teacher_to_total_MDE_10y                   0.163920\n",
       "FUNDEB_teacher_to_total_MDE_13y                   0.160013\n",
       "investment_per_student_11y                        0.153133\n",
       "EB_investment_per_student_13y                     0.150917\n",
       "EB_non_teaching_staff_per_student_expanses_13y    0.147292\n",
       "investment_per_student_10y                        0.146901\n",
       "EB_investment_per_student_11y                     0.140748\n",
       "EB_investment_per_student_10y                     0.133461\n",
       "EB_non_teaching_staff_per_student_expanses_11y    0.133278\n",
       "FUNDEB_teacher_to_total_MDE_11y                   0.132577\n",
       "EB_non_teaching_staff_per_student_expanses_14y    0.128749\n",
       "EF_FUNDEB_ratio_11y                               0.128383\n",
       "Name: Average score, dtype: float64"
      ]
     },
     "execution_count": 22,
     "metadata": {},
     "output_type": "execute_result"
    }
   ],
   "source": [
    "abs(R[\"Average score\"].drop(\"Average score\")).sort_values(ascending = False)[0:15]"
   ]
  },
  {
   "cell_type": "code",
   "execution_count": null,
   "metadata": {},
   "outputs": [],
   "source": [
    "X_train, y_train, X_test, y_test = train_test_split(df[])"
   ]
  },
  {
   "cell_type": "markdown",
   "metadata": {},
   "source": [
    "## Regression approaches"
   ]
  },
  {
   "cell_type": "markdown",
   "metadata": {},
   "source": [
    "### (i) SIOPE features only (stepwise)"
   ]
  },
  {
   "cell_type": "code",
   "execution_count": 129,
   "metadata": {},
   "outputs": [],
   "source": [
    "famd = prince.FAMD(\n",
    "     n_components=8,\n",
    "     engine='sklearn',       ## Can be \"auto\", 'sklearn', 'fbpca'\n",
    "     random_state=42)"
   ]
  },
  {
   "cell_type": "code",
   "execution_count": 133,
   "metadata": {},
   "outputs": [
    {
     "data": {
      "text/html": [
       "<style>#sk-container-id-5 {color: black;}#sk-container-id-5 pre{padding: 0;}#sk-container-id-5 div.sk-toggleable {background-color: white;}#sk-container-id-5 label.sk-toggleable__label {cursor: pointer;display: block;width: 100%;margin-bottom: 0;padding: 0.3em;box-sizing: border-box;text-align: center;}#sk-container-id-5 label.sk-toggleable__label-arrow:before {content: \"▸\";float: left;margin-right: 0.25em;color: #696969;}#sk-container-id-5 label.sk-toggleable__label-arrow:hover:before {color: black;}#sk-container-id-5 div.sk-estimator:hover label.sk-toggleable__label-arrow:before {color: black;}#sk-container-id-5 div.sk-toggleable__content {max-height: 0;max-width: 0;overflow: hidden;text-align: left;background-color: #f0f8ff;}#sk-container-id-5 div.sk-toggleable__content pre {margin: 0.2em;color: black;border-radius: 0.25em;background-color: #f0f8ff;}#sk-container-id-5 input.sk-toggleable__control:checked~div.sk-toggleable__content {max-height: 200px;max-width: 100%;overflow: auto;}#sk-container-id-5 input.sk-toggleable__control:checked~label.sk-toggleable__label-arrow:before {content: \"▾\";}#sk-container-id-5 div.sk-estimator input.sk-toggleable__control:checked~label.sk-toggleable__label {background-color: #d4ebff;}#sk-container-id-5 div.sk-label input.sk-toggleable__control:checked~label.sk-toggleable__label {background-color: #d4ebff;}#sk-container-id-5 input.sk-hidden--visually {border: 0;clip: rect(1px 1px 1px 1px);clip: rect(1px, 1px, 1px, 1px);height: 1px;margin: -1px;overflow: hidden;padding: 0;position: absolute;width: 1px;}#sk-container-id-5 div.sk-estimator {font-family: monospace;background-color: #f0f8ff;border: 1px dotted black;border-radius: 0.25em;box-sizing: border-box;margin-bottom: 0.5em;}#sk-container-id-5 div.sk-estimator:hover {background-color: #d4ebff;}#sk-container-id-5 div.sk-parallel-item::after {content: \"\";width: 100%;border-bottom: 1px solid gray;flex-grow: 1;}#sk-container-id-5 div.sk-label:hover label.sk-toggleable__label {background-color: #d4ebff;}#sk-container-id-5 div.sk-serial::before {content: \"\";position: absolute;border-left: 1px solid gray;box-sizing: border-box;top: 0;bottom: 0;left: 50%;z-index: 0;}#sk-container-id-5 div.sk-serial {display: flex;flex-direction: column;align-items: center;background-color: white;padding-right: 0.2em;padding-left: 0.2em;position: relative;}#sk-container-id-5 div.sk-item {position: relative;z-index: 1;}#sk-container-id-5 div.sk-parallel {display: flex;align-items: stretch;justify-content: center;background-color: white;position: relative;}#sk-container-id-5 div.sk-item::before, #sk-container-id-5 div.sk-parallel-item::before {content: \"\";position: absolute;border-left: 1px solid gray;box-sizing: border-box;top: 0;bottom: 0;left: 50%;z-index: -1;}#sk-container-id-5 div.sk-parallel-item {display: flex;flex-direction: column;z-index: 1;position: relative;background-color: white;}#sk-container-id-5 div.sk-parallel-item:first-child::after {align-self: flex-end;width: 50%;}#sk-container-id-5 div.sk-parallel-item:last-child::after {align-self: flex-start;width: 50%;}#sk-container-id-5 div.sk-parallel-item:only-child::after {width: 0;}#sk-container-id-5 div.sk-dashed-wrapped {border: 1px dashed gray;margin: 0 0.4em 0.5em 0.4em;box-sizing: border-box;padding-bottom: 0.4em;background-color: white;}#sk-container-id-5 div.sk-label label {font-family: monospace;font-weight: bold;display: inline-block;line-height: 1.2em;}#sk-container-id-5 div.sk-label-container {text-align: center;}#sk-container-id-5 div.sk-container {/* jupyter's `normalize.less` sets `[hidden] { display: none; }` but bootstrap.min.css set `[hidden] { display: none !important; }` so we also need the `!important` here to be able to override the default hidden behavior on the sphinx rendered scikit-learn.org. See: https://github.com/scikit-learn/scikit-learn/issues/21755 */display: inline-block !important;position: relative;}#sk-container-id-5 div.sk-text-repr-fallback {display: none;}</style><div id=\"sk-container-id-5\" class=\"sk-top-container\"><div class=\"sk-text-repr-fallback\"><pre>PCA(n_components=5)</pre><b>In a Jupyter environment, please rerun this cell to show the HTML representation or trust the notebook. <br />On GitHub, the HTML representation is unable to render, please try loading this page with nbviewer.org.</b></div><div class=\"sk-container\" hidden><div class=\"sk-item\"><div class=\"sk-estimator sk-toggleable\"><input class=\"sk-toggleable__control sk-hidden--visually\" id=\"sk-estimator-id-5\" type=\"checkbox\" checked><label for=\"sk-estimator-id-5\" class=\"sk-toggleable__label sk-toggleable__label-arrow\">PCA</label><div class=\"sk-toggleable__content\"><pre>PCA(n_components=5)</pre></div></div></div></div></div>"
      ],
      "text/plain": [
       "PCA(n_components=5)"
      ]
     },
     "execution_count": 133,
     "metadata": {},
     "output_type": "execute_result"
    }
   ],
   "source": [
    "pca = PCA(n_components = 5)\n",
    "pca.fit(X)"
   ]
  },
  {
   "cell_type": "code",
   "execution_count": 139,
   "metadata": {},
   "outputs": [
    {
     "data": {
      "text/plain": [
       "array([0.25838708, 0.16606282, 0.13954534, 0.0804658 , 0.05602944])"
      ]
     },
     "execution_count": 139,
     "metadata": {},
     "output_type": "execute_result"
    }
   ],
   "source": [
    "pca.explained_variance_ratio_"
   ]
  },
  {
   "cell_type": "code",
   "execution_count": 140,
   "metadata": {},
   "outputs": [],
   "source": [
    "LR = OLS(df[\"Average score\"], exog = pca.transform(X), hasconst = False).fit() "
   ]
  },
  {
   "cell_type": "code",
   "execution_count": 143,
   "metadata": {},
   "outputs": [
    {
     "data": {
      "text/plain": [
       "[<matplotlib.lines.Line2D at 0x217e7156820>]"
      ]
     },
     "execution_count": 143,
     "metadata": {},
     "output_type": "execute_result"
    },
    {
     "data": {
      "image/png": "[encoded data removed]",
      "text/plain": [
       "<Figure size 432x288 with 1 Axes>"
      ]
     },
     "metadata": {
      "needs_background": "light"
     },
     "output_type": "display_data"
    }
   ],
   "source": [
    "y_pred = LR.predict(pca.transform(X))\n",
    "y_true = df[\"Average score\"]\n",
    "plt.scatter(y_true, y_pred)\n",
    "plt.plot(y_true, y_true, '-.r')"
   ]
  },
  {
   "cell_type": "code",
   "execution_count": 146,
   "metadata": {},
   "outputs": [
    {
     "name": "stdout",
     "output_type": "stream",
     "text": [
      "1 feature(s): llf = -14203055.586694565\n",
      "2 feature(s): llf = -14082155.872032255\n",
      "3 feature(s): llf = -13951954.005577136\n",
      "4 feature(s): llf = -13514198.840435354\n",
      "5 feature(s): llf = -13353046.46836119\n",
      "6 feature(s): llf = -13174070.164825602\n",
      "7 feature(s): llf = -13166134.060567247\n",
      "8 feature(s): llf = -13030392.407297585\n",
      "9 feature(s): llf = -13009708.215339378\n",
      "10 feature(s): llf = -13002163.20219679\n",
      "11 feature(s): llf = -12991067.948691845\n",
      "12 feature(s): llf = -12990043.578798126\n",
      "13 feature(s): llf = -12989935.261556758\n",
      "14 feature(s): llf = -12989393.603351297\n",
      "15 feature(s): llf = -12973280.050851952\n",
      "16 feature(s): llf = -12736416.839293864\n",
      "17 feature(s): llf = -12736286.66938896\n",
      "18 feature(s): llf = -12736104.625000339\n",
      "19 feature(s): llf = -12735220.21699531\n",
      "20 feature(s): llf = -12731519.861753324\n",
      "21 feature(s): llf = -12728358.60500059\n",
      "22 feature(s): llf = -12728273.959740428\n",
      "23 feature(s): llf = -12728222.216273842\n",
      "24 feature(s): llf = -12725765.315928431\n",
      "25 feature(s): llf = -12722284.08932418\n",
      "26 feature(s): llf = -12718828.462012969\n",
      "27 feature(s): llf = -12718679.66702936\n",
      "28 feature(s): llf = -12718679.667029358\n",
      "29 feature(s): llf = -12718679.667029358\n"
     ]
    }
   ],
   "source": [
    "llf = []\n",
    "for n in range(1,30):\n",
    "    llf.append(OLS(df[\"Average score\"], exog = df[abs(R[\"Average score\"].drop(\"Average score\")).sort_values(ascending = False)[0:n].index], hasconst = False).fit().llf)\n",
    "    print(f\"{n} feature(s): llf = {llf[-1]}\") "
   ]
  },
  {
   "cell_type": "code",
   "execution_count": 147,
   "metadata": {},
   "outputs": [
    {
     "data": {
      "text/plain": [
       "[<matplotlib.lines.Line2D at 0x217c25d4bb0>]"
      ]
     },
     "execution_count": 147,
     "metadata": {},
     "output_type": "execute_result"
    },
    {
     "data": {
      "image/png": "[encoded data removed]",
      "text/plain": [
       "<Figure size 432x288 with 1 Axes>"
      ]
     },
     "metadata": {
      "needs_background": "light"
     },
     "output_type": "display_data"
    }
   ],
   "source": [
    "plt.plot(np.arange(0,len(llf)), llf)"
   ]
  },
  {
   "cell_type": "code",
   "execution_count": 144,
   "metadata": {},
   "outputs": [
    {
     "data": {
      "text/plain": [
       "-17272763.987036355"
      ]
     },
     "execution_count": 144,
     "metadata": {},
     "output_type": "execute_result"
    }
   ],
   "source": [
    "LR.llf"
   ]
  },
  {
   "cell_type": "code",
   "execution_count": 190,
   "metadata": {},
   "outputs": [],
   "source": [
    "def feature_selection(data, feature_max, corr_filter):\n",
    "    print(\"Running regressors\")\n",
    "    regressors = {}\n",
    "    for n in range(1,feature_max+1):\n",
    "        data_to_train = data[abs(corr_filter[\"Average score\"].drop(\"Average score\")).sort_values(ascending = False)[0:n].index]\n",
    "        regressor = OLS(data[\"Average score\"], exog = data_to_train, hasconst = False).fit()\n",
    "        regressors[n] = regressor\n",
    "    \n",
    "    return regressors"
   ]
  },
  {
   "cell_type": "code",
   "execution_count": 191,
   "metadata": {},
   "outputs": [
    {
     "name": "stdout",
     "output_type": "stream",
     "text": [
      "Running for 2015\n",
      "Loading data for ENEM 2015\n",
      "Processing SIOPE data\n",
      "Merging ENEM and SIOPE data\n",
      "Ready to start analysis!\n",
      "Running regressors\n",
      "------------------------------\n",
      "Running for 2016\n",
      "Loading data for ENEM 2016\n",
      "Processing SIOPE data\n",
      "Merging ENEM and SIOPE data\n",
      "Ready to start analysis!\n",
      "Running regressors\n"
     ]
    },
    {
     "name": "stderr",
     "output_type": "stream",
     "text": [
      "c:\\Users\\cstefano\\anaconda3\\lib\\site-packages\\statsmodels\\tools\\tools.py:414: RuntimeWarning: overflow encountered in double_scalars\n",
      "  s[i] = 1./s[i]\n",
      "c:\\Users\\cstefano\\anaconda3\\lib\\site-packages\\statsmodels\\tools\\tools.py:417: RuntimeWarning: invalid value encountered in multiply\n",
      "  res = np.dot(np.transpose(vt), np.multiply(s[:, np.core.newaxis],\n"
     ]
    },
    {
     "ename": "MemoryError",
     "evalue": "Unable to allocate 881. MiB for an array with shape (29, 3981680) and data type float64",
     "output_type": "error",
     "traceback": [
      "\u001b[1;31m---------------------------------------------------------------------------\u001b[0m",
      "\u001b[1;31mMemoryError\u001b[0m                               Traceback (most recent call last)",
      "\u001b[1;32m<ipython-input-191-f3c321b74c2f>\u001b[0m in \u001b[0;36m<module>\u001b[1;34m\u001b[0m\n\u001b[0;32m      4\u001b[0m     \u001b[0mR\u001b[0m \u001b[1;33m=\u001b[0m \u001b[0mjoblib\u001b[0m\u001b[1;33m.\u001b[0m\u001b[0mload\u001b[0m\u001b[1;33m(\u001b[0m\u001b[1;34mf\"./variables_results/{year}_SIOPE_only_correlations_with_performance.pkl\"\u001b[0m\u001b[1;33m)\u001b[0m\u001b[1;33m\u001b[0m\u001b[1;33m\u001b[0m\u001b[0m\n\u001b[0;32m      5\u001b[0m \u001b[1;33m\u001b[0m\u001b[0m\n\u001b[1;32m----> 6\u001b[1;33m     \u001b[0mregressors\u001b[0m \u001b[1;33m=\u001b[0m \u001b[0mfeature_selection\u001b[0m\u001b[1;33m(\u001b[0m\u001b[0mdf\u001b[0m\u001b[1;33m.\u001b[0m\u001b[0msample\u001b[0m\u001b[1;33m(\u001b[0m\u001b[0mfrac\u001b[0m\u001b[1;33m=\u001b[0m\u001b[1;36m0.7\u001b[0m\u001b[1;33m,\u001b[0m \u001b[0mrandom_state\u001b[0m \u001b[1;33m=\u001b[0m \u001b[1;36m1\u001b[0m\u001b[1;33m)\u001b[0m\u001b[1;33m,\u001b[0m \u001b[1;36m30\u001b[0m\u001b[1;33m,\u001b[0m \u001b[0mR\u001b[0m\u001b[1;33m)\u001b[0m\u001b[1;33m\u001b[0m\u001b[1;33m\u001b[0m\u001b[0m\n\u001b[0m\u001b[0;32m      7\u001b[0m     \u001b[0mjoblib\u001b[0m\u001b[1;33m.\u001b[0m\u001b[0mdump\u001b[0m\u001b[1;33m(\u001b[0m\u001b[0mregressors\u001b[0m\u001b[1;33m,\u001b[0m \u001b[1;34mf\"./variables_results/{year}_OLS_SIOPE_only.pkl\"\u001b[0m\u001b[1;33m)\u001b[0m\u001b[1;33m\u001b[0m\u001b[1;33m\u001b[0m\u001b[0m\n\u001b[0;32m      8\u001b[0m     \u001b[0mprint\u001b[0m\u001b[1;33m(\u001b[0m\u001b[1;34m\"-\"\u001b[0m\u001b[1;33m*\u001b[0m\u001b[1;36m30\u001b[0m\u001b[1;33m)\u001b[0m\u001b[1;33m\u001b[0m\u001b[1;33m\u001b[0m\u001b[0m\n",
      "\u001b[1;32m<ipython-input-190-27d5a2264aea>\u001b[0m in \u001b[0;36mfeature_selection\u001b[1;34m(data, feature_max, corr_filter)\u001b[0m\n\u001b[0;32m      4\u001b[0m     \u001b[1;32mfor\u001b[0m \u001b[0mn\u001b[0m \u001b[1;32min\u001b[0m \u001b[0mrange\u001b[0m\u001b[1;33m(\u001b[0m\u001b[1;36m1\u001b[0m\u001b[1;33m,\u001b[0m\u001b[0mfeature_max\u001b[0m\u001b[1;33m+\u001b[0m\u001b[1;36m1\u001b[0m\u001b[1;33m)\u001b[0m\u001b[1;33m:\u001b[0m\u001b[1;33m\u001b[0m\u001b[1;33m\u001b[0m\u001b[0m\n\u001b[0;32m      5\u001b[0m         \u001b[0mdata_to_train\u001b[0m \u001b[1;33m=\u001b[0m \u001b[0mdata\u001b[0m\u001b[1;33m[\u001b[0m\u001b[0mabs\u001b[0m\u001b[1;33m(\u001b[0m\u001b[0mcorr_filter\u001b[0m\u001b[1;33m[\u001b[0m\u001b[1;34m\"Average score\"\u001b[0m\u001b[1;33m]\u001b[0m\u001b[1;33m.\u001b[0m\u001b[0mdrop\u001b[0m\u001b[1;33m(\u001b[0m\u001b[1;34m\"Average score\"\u001b[0m\u001b[1;33m)\u001b[0m\u001b[1;33m)\u001b[0m\u001b[1;33m.\u001b[0m\u001b[0msort_values\u001b[0m\u001b[1;33m(\u001b[0m\u001b[0mascending\u001b[0m \u001b[1;33m=\u001b[0m \u001b[1;32mFalse\u001b[0m\u001b[1;33m)\u001b[0m\u001b[1;33m[\u001b[0m\u001b[1;36m0\u001b[0m\u001b[1;33m:\u001b[0m\u001b[0mn\u001b[0m\u001b[1;33m]\u001b[0m\u001b[1;33m.\u001b[0m\u001b[0mindex\u001b[0m\u001b[1;33m]\u001b[0m\u001b[1;33m\u001b[0m\u001b[1;33m\u001b[0m\u001b[0m\n\u001b[1;32m----> 6\u001b[1;33m         \u001b[0mregressor\u001b[0m \u001b[1;33m=\u001b[0m \u001b[0mOLS\u001b[0m\u001b[1;33m(\u001b[0m\u001b[0mdata\u001b[0m\u001b[1;33m[\u001b[0m\u001b[1;34m\"Average score\"\u001b[0m\u001b[1;33m]\u001b[0m\u001b[1;33m,\u001b[0m \u001b[0mexog\u001b[0m \u001b[1;33m=\u001b[0m \u001b[0mdata_to_train\u001b[0m\u001b[1;33m,\u001b[0m \u001b[0mhasconst\u001b[0m \u001b[1;33m=\u001b[0m \u001b[1;32mFalse\u001b[0m\u001b[1;33m)\u001b[0m\u001b[1;33m.\u001b[0m\u001b[0mfit\u001b[0m\u001b[1;33m(\u001b[0m\u001b[1;33m)\u001b[0m\u001b[1;33m\u001b[0m\u001b[1;33m\u001b[0m\u001b[0m\n\u001b[0m\u001b[0;32m      7\u001b[0m         \u001b[0mregressors\u001b[0m\u001b[1;33m[\u001b[0m\u001b[0mn\u001b[0m\u001b[1;33m]\u001b[0m \u001b[1;33m=\u001b[0m \u001b[0mregressor\u001b[0m\u001b[1;33m\u001b[0m\u001b[1;33m\u001b[0m\u001b[0m\n\u001b[0;32m      8\u001b[0m \u001b[1;33m\u001b[0m\u001b[0m\n",
      "\u001b[1;32mc:\\Users\\cstefano\\anaconda3\\lib\\site-packages\\statsmodels\\regression\\linear_model.py\u001b[0m in \u001b[0;36mfit\u001b[1;34m(self, method, cov_type, cov_kwds, use_t, **kwargs)\u001b[0m\n\u001b[0;32m    303\u001b[0m                     hasattr(self, 'rank')):\n\u001b[0;32m    304\u001b[0m \u001b[1;33m\u001b[0m\u001b[0m\n\u001b[1;32m--> 305\u001b[1;33m                 \u001b[0mself\u001b[0m\u001b[1;33m.\u001b[0m\u001b[0mpinv_wexog\u001b[0m\u001b[1;33m,\u001b[0m \u001b[0msingular_values\u001b[0m \u001b[1;33m=\u001b[0m \u001b[0mpinv_extended\u001b[0m\u001b[1;33m(\u001b[0m\u001b[0mself\u001b[0m\u001b[1;33m.\u001b[0m\u001b[0mwexog\u001b[0m\u001b[1;33m)\u001b[0m\u001b[1;33m\u001b[0m\u001b[1;33m\u001b[0m\u001b[0m\n\u001b[0m\u001b[0;32m    306\u001b[0m                 self.normalized_cov_params = np.dot(\n\u001b[0;32m    307\u001b[0m                     self.pinv_wexog, np.transpose(self.pinv_wexog))\n",
      "\u001b[1;32mc:\\Users\\cstefano\\anaconda3\\lib\\site-packages\\statsmodels\\tools\\tools.py\u001b[0m in \u001b[0;36mpinv_extended\u001b[1;34m(x, rcond)\u001b[0m\n\u001b[0;32m    415\u001b[0m         \u001b[1;32melse\u001b[0m\u001b[1;33m:\u001b[0m\u001b[1;33m\u001b[0m\u001b[1;33m\u001b[0m\u001b[0m\n\u001b[0;32m    416\u001b[0m             \u001b[0ms\u001b[0m\u001b[1;33m[\u001b[0m\u001b[0mi\u001b[0m\u001b[1;33m]\u001b[0m \u001b[1;33m=\u001b[0m \u001b[1;36m0.\u001b[0m\u001b[1;33m\u001b[0m\u001b[1;33m\u001b[0m\u001b[0m\n\u001b[1;32m--> 417\u001b[1;33m     res = np.dot(np.transpose(vt), np.multiply(s[:, np.core.newaxis],\n\u001b[0m\u001b[0;32m    418\u001b[0m                                                np.transpose(u)))\n\u001b[0;32m    419\u001b[0m     \u001b[1;32mreturn\u001b[0m \u001b[0mres\u001b[0m\u001b[1;33m,\u001b[0m \u001b[0ms_orig\u001b[0m\u001b[1;33m\u001b[0m\u001b[1;33m\u001b[0m\u001b[0m\n",
      "\u001b[1;32mc:\\Users\\cstefano\\anaconda3\\lib\\site-packages\\numpy\\core\\overrides.py\u001b[0m in \u001b[0;36mdot\u001b[1;34m(*args, **kwargs)\u001b[0m\n",
      "\u001b[1;31mMemoryError\u001b[0m: Unable to allocate 881. MiB for an array with shape (29, 3981680) and data type float64"
     ]
    }
   ],
   "source": [
    "for year in [2016, 2017, 2018, 2019, 2020, 2021, 2022]:\n",
    "    print(f\"Running for {year}\")\n",
    "    df = load_and_process_data_for_analysis_stepwise(year, siope_df, normalize = False)\n",
    "    R = joblib.load(f\"./variables_results/{year}_SIOPE_only_correlations_with_performance.pkl\")\n",
    "\n",
    "    regressors = feature_selection(df.sample(frac=0.7, random_state = 1), 30, R)\n",
    "    joblib.dump(regressors, f\"./variables_results/{year}_OLS_SIOPE_only.pkl\")\n",
    "    print(\"-\"*30)"
   ]
  },
  {
   "cell_type": "code",
   "execution_count": 164,
   "metadata": {},
   "outputs": [
    {
     "name": "stdout",
     "output_type": "stream",
     "text": [
      "1 feature(s) llf = -26156708.62735492\n",
      "2 feature(s) llf = -25582700.775541626\n",
      "3 feature(s) llf = -25313888.861634266\n",
      "4 feature(s) llf = -25218730.393276557\n",
      "5 feature(s) llf = -24373457.829410836\n",
      "6 feature(s) llf = -24270746.502405085\n",
      "7 feature(s) llf = -24253452.360647365\n",
      "8 feature(s) llf = -23977530.663233623\n",
      "9 feature(s) llf = -23961418.208141718\n",
      "10 feature(s) llf = -23925650.337526575\n",
      "11 feature(s) llf = -23911587.741481554\n",
      "12 feature(s) llf = -23911586.305293337\n",
      "13 feature(s) llf = -23911350.59984254\n",
      "14 feature(s) llf = -23893343.539753288\n",
      "15 feature(s) llf = -23700594.55821714\n",
      "16 feature(s) llf = -23697145.729341898\n",
      "17 feature(s) llf = -23696973.852246303\n",
      "18 feature(s) llf = -23696912.260806255\n",
      "19 feature(s) llf = -23660338.07168054\n",
      "20 feature(s) llf = -23536298.72778991\n",
      "21 feature(s) llf = -23454004.803222287\n",
      "22 feature(s) llf = -23387838.566449124\n",
      "23 feature(s) llf = -23385268.001692414\n",
      "24 feature(s) llf = -23377779.225579876\n",
      "25 feature(s) llf = -23372368.60929053\n",
      "26 feature(s) llf = -23370072.36329774\n",
      "27 feature(s) llf = -23367684.735269275\n",
      "28 feature(s) llf = -23367684.735269275\n",
      "29 feature(s) llf = -23367684.735269275\n",
      "30 feature(s) llf = -23367684.735269275\n"
     ]
    }
   ],
   "source": [
    "regressor, llf = feature_selection(data = df, feature_max = 30, corr_filter = R)"
   ]
  },
  {
   "cell_type": "code",
   "execution_count": 165,
   "metadata": {},
   "outputs": [
    {
     "data": {
      "text/plain": [
       "[<matplotlib.lines.Line2D at 0x2179ab5d610>]"
      ]
     },
     "execution_count": 165,
     "metadata": {},
     "output_type": "execute_result"
    },
    {
     "data": {
      "image/png": "[encoded data removed]",
      "text/plain": [
       "<Figure size 432x288 with 1 Axes>"
      ]
     },
     "metadata": {
      "needs_background": "light"
     },
     "output_type": "display_data"
    }
   ],
   "source": [
    "plt.plot(llf)"
   ]
  },
  {
   "cell_type": "code",
   "execution_count": 154,
   "metadata": {},
   "outputs": [
    {
     "data": {
      "text/plain": [
       "[<matplotlib.lines.Line2D at 0x2179aa00730>]"
      ]
     },
     "execution_count": 154,
     "metadata": {},
     "output_type": "execute_result"
    },
    {
     "data": {
      "image/png": "[encoded data removed]",
      "text/plain": [
       "<Figure size 432x288 with 1 Axes>"
      ]
     },
     "metadata": {
      "needs_background": "light"
     },
     "output_type": "display_data"
    }
   ],
   "source": [
    "plt.plot(np.diff(llf))"
   ]
  },
  {
   "cell_type": "code",
   "execution_count": 151,
   "metadata": {},
   "outputs": [
    {
     "data": {
      "text/plain": [
       "27"
      ]
     },
     "execution_count": 151,
     "metadata": {},
     "output_type": "execute_result"
    }
   ],
   "source": [
    "np.argmin(np.diff(llf))"
   ]
  },
  {
   "cell_type": "code",
   "execution_count": 128,
   "metadata": {},
   "outputs": [
    {
     "data": {
      "text/plain": [
       "EB_expanses_teacher_per_student_10y                  0.010000\n",
       "EB_expanses_teacher_per_student_11y                  0.041468\n",
       "EB_expanses_teacher_per_student_13y                  0.041402\n",
       "EB_expanses_teacher_per_student_14y                  0.103103\n",
       "EB_investment_per_student_10y                        0.133461\n",
       "                                                       ...   \n",
       "scholar_nutrition_to_total_education_expanses_14y   -0.053021\n",
       "superavit_or_deficit_10y                            -0.055030\n",
       "superavit_or_deficit_11y                            -0.108846\n",
       "superavit_or_deficit_13y                             0.106220\n",
       "Average score                                        1.000000\n",
       "Name: Average score, Length: 79, dtype: float64"
      ]
     },
     "execution_count": 128,
     "metadata": {},
     "output_type": "execute_result"
    }
   ],
   "source": [
    "R[\"Average score\"]"
   ]
  },
  {
   "cell_type": "code",
   "execution_count": null,
   "metadata": {},
   "outputs": [],
   "source": [
    "for year in years_to_analyze:\n",
    "    df = load_and_process_data_for_analysis_stepwise(year, siope_df, normalize = False)"
   ]
  },
  {
   "cell_type": "code",
   "execution_count": 29,
   "metadata": {},
   "outputs": [],
   "source": [
    "LR = OLS(df[\"Average score\"], exog = df[abs(R[\"Average score\"].drop(\"Average score\")).sort_values(ascending = False)[0:40].index], hasconst = False).fit() "
   ]
  },
  {
   "cell_type": "code",
   "execution_count": 20,
   "metadata": {},
   "outputs": [
    {
     "data": {
      "text/plain": [
       "(2245649,)"
      ]
     },
     "execution_count": 20,
     "metadata": {},
     "output_type": "execute_result"
    }
   ],
   "source": [
    "y_true.shape"
   ]
  },
  {
   "cell_type": "code",
   "execution_count": 30,
   "metadata": {},
   "outputs": [
    {
     "data": {
      "text/plain": [
       "[<matplotlib.lines.Line2D at 0x217955e74c0>]"
      ]
     },
     "execution_count": 30,
     "metadata": {},
     "output_type": "execute_result"
    },
    {
     "data": {
      "image/png": "[encoded data removed]",
      "text/plain": [
       "<Figure size 432x288 with 1 Axes>"
      ]
     },
     "metadata": {
      "needs_background": "light"
     },
     "output_type": "display_data"
    }
   ],
   "source": [
    "y_pred = LR.predict(df[abs(R[\"Average score\"].drop(\"Average score\")).sort_values(ascending = False)[0:40].index])\n",
    "y_true = df[\"Average score\"]\n",
    "plt.scatter(y_true, y_pred)\n",
    "plt.plot(y_true, y_true, '-.r')"
   ]
  },
  {
   "cell_type": "code",
   "execution_count": 28,
   "metadata": {},
   "outputs": [
    {
     "data": {
      "text/plain": [
       "[<matplotlib.lines.Line2D at 0x217955730a0>]"
      ]
     },
     "execution_count": 28,
     "metadata": {},
     "output_type": "execute_result"
    },
    {
     "data": {
      "image/png": "[encoded data removed]",
      "text/plain": [
       "<Figure size 432x288 with 1 Axes>"
      ]
     },
     "metadata": {
      "needs_background": "light"
     },
     "output_type": "display_data"
    }
   ],
   "source": [
    "y_pred = LR.predict(df[abs(R[\"Average score\"].drop(\"Average score\")).sort_values(ascending = False)[0:15].index])\n",
    "y_true = df[\"Average score\"]\n",
    "plt.scatter(y_true, y_pred)\n",
    "plt.plot(y_true, y_true, '-.r')"
   ]
  },
  {
   "cell_type": "code",
   "execution_count": 26,
   "metadata": {},
   "outputs": [
    {
     "data": {
      "text/plain": [
       "-12973280.050851952"
      ]
     },
     "execution_count": 26,
     "metadata": {},
     "output_type": "execute_result"
    }
   ],
   "source": [
    "LR.llf"
   ]
  },
  {
   "cell_type": "code",
   "execution_count": 31,
   "metadata": {},
   "outputs": [
    {
     "data": {
      "text/html": [
       "<table class=\"simpletable\">\n",
       "<caption>OLS Regression Results</caption>\n",
       "<tr>\n",
       "  <th>Dep. Variable:</th>      <td>Average score</td>  <th>  R-squared (uncentered):</th>       <td>   0.983</td>  \n",
       "</tr>\n",
       "<tr>\n",
       "  <th>Model:</th>                   <td>OLS</td>       <th>  Adj. R-squared (uncentered):</th>  <td>   0.983</td>  \n",
       "</tr>\n",
       "<tr>\n",
       "  <th>Method:</th>             <td>Least Squares</td>  <th>  F-statistic:       </th>           <td>4.722e+06</td> \n",
       "</tr>\n",
       "<tr>\n",
       "  <th>Date:</th>             <td>Sat, 03 Feb 2024</td> <th>  Prob (F-statistic):</th>            <td>  0.00</td>   \n",
       "</tr>\n",
       "<tr>\n",
       "  <th>Time:</th>                 <td>12:56:59</td>     <th>  Log-Likelihood:    </th>          <td>-1.2719e+07</td>\n",
       "</tr>\n",
       "<tr>\n",
       "  <th>No. Observations:</th>      <td>2245649</td>     <th>  AIC:               </th>           <td>2.544e+07</td> \n",
       "</tr>\n",
       "<tr>\n",
       "  <th>Df Residuals:</th>          <td>2245622</td>     <th>  BIC:               </th>           <td>2.544e+07</td> \n",
       "</tr>\n",
       "<tr>\n",
       "  <th>Df Model:</th>              <td>    27</td>      <th>                     </th>               <td> </td>     \n",
       "</tr>\n",
       "<tr>\n",
       "  <th>Covariance Type:</th>      <td>nonrobust</td>    <th>                     </th>               <td> </td>     \n",
       "</tr>\n",
       "</table>\n",
       "<table class=\"simpletable\">\n",
       "<tr>\n",
       "                          <td></td>                             <th>coef</th>     <th>std err</th>      <th>t</th>      <th>P>|t|</th>  <th>[0.025</th>    <th>0.975]</th>  \n",
       "</tr>\n",
       "<tr>\n",
       "  <th>investment_per_student_14y</th>                        <td>    0.0709</td> <td>    0.002</td> <td>   37.025</td> <td> 0.000</td> <td>    0.067</td> <td>    0.075</td>\n",
       "</tr>\n",
       "<tr>\n",
       "  <th>investment_per_student_13y</th>                        <td>   -0.0397</td> <td>    0.004</td> <td>   -9.957</td> <td> 0.000</td> <td>   -0.047</td> <td>   -0.032</td>\n",
       "</tr>\n",
       "<tr>\n",
       "  <th>EB_investment_per_student_14y</th>                     <td>    0.0281</td> <td>    0.002</td> <td>   16.982</td> <td> 0.000</td> <td>    0.025</td> <td>    0.031</td>\n",
       "</tr>\n",
       "<tr>\n",
       "  <th>FUNDEB_teacher_to_total_MDE_10y</th>                   <td>    0.8018</td> <td>    0.025</td> <td>   32.676</td> <td> 0.000</td> <td>    0.754</td> <td>    0.850</td>\n",
       "</tr>\n",
       "<tr>\n",
       "  <th>FUNDEB_teacher_to_total_MDE_13y</th>                   <td>    1.7436</td> <td>    0.026</td> <td>   68.324</td> <td> 0.000</td> <td>    1.694</td> <td>    1.794</td>\n",
       "</tr>\n",
       "<tr>\n",
       "  <th>investment_per_student_11y</th>                        <td>   -0.1284</td> <td>    0.006</td> <td>  -23.217</td> <td> 0.000</td> <td>   -0.139</td> <td>   -0.118</td>\n",
       "</tr>\n",
       "<tr>\n",
       "  <th>EB_investment_per_student_13y</th>                     <td>   -0.0751</td> <td>    0.004</td> <td>  -20.636</td> <td> 0.000</td> <td>   -0.082</td> <td>   -0.068</td>\n",
       "</tr>\n",
       "<tr>\n",
       "  <th>EB_non_teaching_staff_per_student_expanses_13y</th>    <td>    0.0916</td> <td>    0.002</td> <td>   56.674</td> <td> 0.000</td> <td>    0.088</td> <td>    0.095</td>\n",
       "</tr>\n",
       "<tr>\n",
       "  <th>investment_per_student_10y</th>                        <td>    0.1577</td> <td>    0.002</td> <td>   70.828</td> <td> 0.000</td> <td>    0.153</td> <td>    0.162</td>\n",
       "</tr>\n",
       "<tr>\n",
       "  <th>EB_investment_per_student_11y</th>                     <td>    0.2936</td> <td>    0.006</td> <td>   48.638</td> <td> 0.000</td> <td>    0.282</td> <td>    0.305</td>\n",
       "</tr>\n",
       "<tr>\n",
       "  <th>EB_investment_per_student_10y</th>                     <td>   -0.1048</td> <td>    0.002</td> <td>  -58.381</td> <td> 0.000</td> <td>   -0.108</td> <td>   -0.101</td>\n",
       "</tr>\n",
       "<tr>\n",
       "  <th>EB_non_teaching_staff_per_student_expanses_11y</th>    <td>   -0.0387</td> <td>    0.001</td> <td>  -68.232</td> <td> 0.000</td> <td>   -0.040</td> <td>   -0.038</td>\n",
       "</tr>\n",
       "<tr>\n",
       "  <th>FUNDEB_teacher_to_total_MDE_11y</th>                   <td>   -0.2050</td> <td>    0.008</td> <td>  -25.793</td> <td> 0.000</td> <td>   -0.221</td> <td>   -0.189</td>\n",
       "</tr>\n",
       "<tr>\n",
       "  <th>EB_non_teaching_staff_per_student_expanses_14y</th>    <td>   -0.0747</td> <td>    0.001</td> <td>  -92.297</td> <td> 0.000</td> <td>   -0.076</td> <td>   -0.073</td>\n",
       "</tr>\n",
       "<tr>\n",
       "  <th>EF_FUNDEB_ratio_11y</th>                               <td>    1.2411</td> <td>    0.015</td> <td>   81.742</td> <td> 0.000</td> <td>    1.211</td> <td>    1.271</td>\n",
       "</tr>\n",
       "<tr>\n",
       "  <th>EM_FUNDEB_ratio_11y</th>                               <td>    1.4548</td> <td>    0.020</td> <td>   74.344</td> <td> 0.000</td> <td>    1.416</td> <td>    1.493</td>\n",
       "</tr>\n",
       "<tr>\n",
       "  <th>FUNDEB_balance_11y</th>                                <td> 1.217e-07</td> <td> 1.64e-09</td> <td>   74.273</td> <td> 0.000</td> <td> 1.18e-07</td> <td> 1.25e-07</td>\n",
       "</tr>\n",
       "<tr>\n",
       "  <th>scholar_nutrition_to_total_education_expanses_10y</th> <td>   -0.3866</td> <td>    0.009</td> <td>  -44.620</td> <td> 0.000</td> <td>   -0.404</td> <td>   -0.370</td>\n",
       "</tr>\n",
       "<tr>\n",
       "  <th>education_to_total_MDE_investments_14y</th>            <td>   -0.9757</td> <td>    0.021</td> <td>  -45.628</td> <td> 0.000</td> <td>   -1.018</td> <td>   -0.934</td>\n",
       "</tr>\n",
       "<tr>\n",
       "  <th>EM_to_total_education_expanses_13y</th>                <td>    1.1561</td> <td>    0.010</td> <td>  121.505</td> <td> 0.000</td> <td>    1.137</td> <td>    1.175</td>\n",
       "</tr>\n",
       "<tr>\n",
       "  <th>superavit_or_deficit_11y</th>                          <td>-2.756e-08</td> <td> 6.26e-10</td> <td>  -43.991</td> <td> 0.000</td> <td>-2.88e-08</td> <td>-2.63e-08</td>\n",
       "</tr>\n",
       "<tr>\n",
       "  <th>FUNDEB_teacher_to_total_MDE_14y</th>                   <td>    0.3225</td> <td>    0.024</td> <td>   13.495</td> <td> 0.000</td> <td>    0.276</td> <td>    0.369</td>\n",
       "</tr>\n",
       "<tr>\n",
       "  <th>superavit_or_deficit_13y</th>                          <td>-2.935e-09</td> <td> 2.65e-10</td> <td>  -11.090</td> <td> 0.000</td> <td>-3.45e-09</td> <td>-2.42e-09</td>\n",
       "</tr>\n",
       "<tr>\n",
       "  <th>EM_investment_per_student_11y</th>                     <td>   -0.0607</td> <td>    0.001</td> <td>  -61.782</td> <td> 0.000</td> <td>   -0.063</td> <td>   -0.059</td>\n",
       "</tr>\n",
       "<tr>\n",
       "  <th>EB_expanses_teacher_per_student_14y</th>               <td>   -0.1148</td> <td>    0.001</td> <td> -115.946</td> <td> 0.000</td> <td>   -0.117</td> <td>   -0.113</td>\n",
       "</tr>\n",
       "<tr>\n",
       "  <th>EM_to_total_education_expanses_11y</th>                <td>    0.0877</td> <td>    0.010</td> <td>    8.443</td> <td> 0.000</td> <td>    0.067</td> <td>    0.108</td>\n",
       "</tr>\n",
       "<tr>\n",
       "  <th>FUNDEB_balance_13y</th>                                <td>-3.581e-07</td> <td>  5.6e-09</td> <td>  -63.902</td> <td> 0.000</td> <td>-3.69e-07</td> <td>-3.47e-07</td>\n",
       "</tr>\n",
       "<tr>\n",
       "  <th>EF_FUNDEB_ratio_13y</th>                               <td>    1.9834</td> <td>    0.009</td> <td>  216.938</td> <td> 0.000</td> <td>    1.966</td> <td>    2.001</td>\n",
       "</tr>\n",
       "<tr>\n",
       "  <th>scholar_nutrition_to_total_education_expanses_13y</th> <td>    0.0444</td> <td>    0.001</td> <td>   54.127</td> <td> 0.000</td> <td>    0.043</td> <td>    0.046</td>\n",
       "</tr>\n",
       "<tr>\n",
       "  <th>education_to_overall_expanses_13y</th>                 <td>   -0.1268</td> <td>    0.022</td> <td>   -5.734</td> <td> 0.000</td> <td>   -0.170</td> <td>   -0.083</td>\n",
       "</tr>\n",
       "<tr>\n",
       "  <th>EF_investment_per_student_11y</th>                     <td>   -0.0489</td> <td>    0.001</td> <td>  -55.793</td> <td> 0.000</td> <td>   -0.051</td> <td>   -0.047</td>\n",
       "</tr>\n",
       "<tr>\n",
       "  <th>EM_FUNDEB_ratio_13y</th>                               <td>    0.2196</td> <td>    0.017</td> <td>   13.257</td> <td> 0.000</td> <td>    0.187</td> <td>    0.252</td>\n",
       "</tr>\n",
       "<tr>\n",
       "  <th>EI_investment_per_student_10y</th>                     <td>    0.0001</td> <td> 2.53e-06</td> <td>   47.191</td> <td> 0.000</td> <td>    0.000</td> <td>    0.000</td>\n",
       "</tr>\n",
       "<tr>\n",
       "  <th>EM_to_total_education_expanses_10y</th>                <td>   -1.4263</td> <td>    0.020</td> <td>  -71.281</td> <td> 0.000</td> <td>   -1.466</td> <td>   -1.387</td>\n",
       "</tr>\n",
       "<tr>\n",
       "  <th>scholar_nutrition_to_total_education_expanses_11y</th> <td>   -0.0921</td> <td>    0.001</td> <td>  -71.633</td> <td> 0.000</td> <td>   -0.095</td> <td>   -0.090</td>\n",
       "</tr>\n",
       "<tr>\n",
       "  <th>EM_to_total_education_expanses_14y</th>                <td>    0.7460</td> <td>    0.017</td> <td>   43.190</td> <td> 0.000</td> <td>    0.712</td> <td>    0.780</td>\n",
       "</tr>\n",
       "<tr>\n",
       "  <th>education_to_overall_expanses_14y</th>                 <td>    0.1991</td> <td>    0.021</td> <td>    9.439</td> <td> 0.000</td> <td>    0.158</td> <td>    0.240</td>\n",
       "</tr>\n",
       "<tr>\n",
       "  <th>education_to_overall_expanses_11y</th>                 <td>   -0.1266</td> <td>    0.017</td> <td>   -7.429</td> <td> 0.000</td> <td>   -0.160</td> <td>   -0.093</td>\n",
       "</tr>\n",
       "<tr>\n",
       "  <th>EF_investment_per_student_13y</th>                     <td>   -0.0095</td> <td>    0.001</td> <td>  -13.380</td> <td> 0.000</td> <td>   -0.011</td> <td>   -0.008</td>\n",
       "</tr>\n",
       "<tr>\n",
       "  <th>education_to_overall_expanses_10y</th>                 <td>   -0.0792</td> <td>    0.011</td> <td>   -7.320</td> <td> 0.000</td> <td>   -0.100</td> <td>   -0.058</td>\n",
       "</tr>\n",
       "</table>\n",
       "<table class=\"simpletable\">\n",
       "<tr>\n",
       "  <th>Omnibus:</th>       <td>74393.415</td> <th>  Durbin-Watson:     </th> <td>   1.974</td> \n",
       "</tr>\n",
       "<tr>\n",
       "  <th>Prob(Omnibus):</th>  <td> 0.000</td>   <th>  Jarque-Bera (JB):  </th> <td>81987.050</td>\n",
       "</tr>\n",
       "<tr>\n",
       "  <th>Skew:</th>           <td> 0.465</td>   <th>  Prob(JB):          </th> <td>    0.00</td> \n",
       "</tr>\n",
       "<tr>\n",
       "  <th>Kurtosis:</th>       <td> 3.110</td>   <th>  Cond. No.          </th> <td>1.09e+16</td> \n",
       "</tr>\n",
       "</table><br/><br/>Notes:<br/>[1] R² is computed without centering (uncentered) since the model does not contain a constant.<br/>[2] Standard Errors assume that the covariance matrix of the errors is correctly specified.<br/>[3] The condition number is large, 1.09e+16. This might indicate that there are<br/>strong multicollinearity or other numerical problems."
      ],
      "text/plain": [
       "<class 'statsmodels.iolib.summary.Summary'>\n",
       "\"\"\"\n",
       "                                 OLS Regression Results                                \n",
       "=======================================================================================\n",
       "Dep. Variable:          Average score   R-squared (uncentered):                   0.983\n",
       "Model:                            OLS   Adj. R-squared (uncentered):              0.983\n",
       "Method:                 Least Squares   F-statistic:                          4.722e+06\n",
       "Date:                Sat, 03 Feb 2024   Prob (F-statistic):                        0.00\n",
       "Time:                        12:56:59   Log-Likelihood:                     -1.2719e+07\n",
       "No. Observations:             2245649   AIC:                                  2.544e+07\n",
       "Df Residuals:                 2245622   BIC:                                  2.544e+07\n",
       "Df Model:                          27                                                  \n",
       "Covariance Type:            nonrobust                                                  \n",
       "=====================================================================================================================\n",
       "                                                        coef    std err          t      P>|t|      [0.025      0.975]\n",
       "---------------------------------------------------------------------------------------------------------------------\n",
       "investment_per_student_14y                            0.0709      0.002     37.025      0.000       0.067       0.075\n",
       "investment_per_student_13y                           -0.0397      0.004     -9.957      0.000      -0.047      -0.032\n",
       "EB_investment_per_student_14y                         0.0281      0.002     16.982      0.000       0.025       0.031\n",
       "FUNDEB_teacher_to_total_MDE_10y                       0.8018      0.025     32.676      0.000       0.754       0.850\n",
       "FUNDEB_teacher_to_total_MDE_13y                       1.7436      0.026     68.324      0.000       1.694       1.794\n",
       "investment_per_student_11y                           -0.1284      0.006    -23.217      0.000      -0.139      -0.118\n",
       "EB_investment_per_student_13y                        -0.0751      0.004    -20.636      0.000      -0.082      -0.068\n",
       "EB_non_teaching_staff_per_student_expanses_13y        0.0916      0.002     56.674      0.000       0.088       0.095\n",
       "investment_per_student_10y                            0.1577      0.002     70.828      0.000       0.153       0.162\n",
       "EB_investment_per_student_11y                         0.2936      0.006     48.638      0.000       0.282       0.305\n",
       "EB_investment_per_student_10y                        -0.1048      0.002    -58.381      0.000      -0.108      -0.101\n",
       "EB_non_teaching_staff_per_student_expanses_11y       -0.0387      0.001    -68.232      0.000      -0.040      -0.038\n",
       "FUNDEB_teacher_to_total_MDE_11y                      -0.2050      0.008    -25.793      0.000      -0.221      -0.189\n",
       "EB_non_teaching_staff_per_student_expanses_14y       -0.0747      0.001    -92.297      0.000      -0.076      -0.073\n",
       "EF_FUNDEB_ratio_11y                                   1.2411      0.015     81.742      0.000       1.211       1.271\n",
       "EM_FUNDEB_ratio_11y                                   1.4548      0.020     74.344      0.000       1.416       1.493\n",
       "FUNDEB_balance_11y                                 1.217e-07   1.64e-09     74.273      0.000    1.18e-07    1.25e-07\n",
       "scholar_nutrition_to_total_education_expanses_10y    -0.3866      0.009    -44.620      0.000      -0.404      -0.370\n",
       "education_to_total_MDE_investments_14y               -0.9757      0.021    -45.628      0.000      -1.018      -0.934\n",
       "EM_to_total_education_expanses_13y                    1.1561      0.010    121.505      0.000       1.137       1.175\n",
       "superavit_or_deficit_11y                          -2.756e-08   6.26e-10    -43.991      0.000   -2.88e-08   -2.63e-08\n",
       "FUNDEB_teacher_to_total_MDE_14y                       0.3225      0.024     13.495      0.000       0.276       0.369\n",
       "superavit_or_deficit_13y                          -2.935e-09   2.65e-10    -11.090      0.000   -3.45e-09   -2.42e-09\n",
       "EM_investment_per_student_11y                        -0.0607      0.001    -61.782      0.000      -0.063      -0.059\n",
       "EB_expanses_teacher_per_student_14y                  -0.1148      0.001   -115.946      0.000      -0.117      -0.113\n",
       "EM_to_total_education_expanses_11y                    0.0877      0.010      8.443      0.000       0.067       0.108\n",
       "FUNDEB_balance_13y                                -3.581e-07    5.6e-09    -63.902      0.000   -3.69e-07   -3.47e-07\n",
       "EF_FUNDEB_ratio_13y                                   1.9834      0.009    216.938      0.000       1.966       2.001\n",
       "scholar_nutrition_to_total_education_expanses_13y     0.0444      0.001     54.127      0.000       0.043       0.046\n",
       "education_to_overall_expanses_13y                    -0.1268      0.022     -5.734      0.000      -0.170      -0.083\n",
       "EF_investment_per_student_11y                        -0.0489      0.001    -55.793      0.000      -0.051      -0.047\n",
       "EM_FUNDEB_ratio_13y                                   0.2196      0.017     13.257      0.000       0.187       0.252\n",
       "EI_investment_per_student_10y                         0.0001   2.53e-06     47.191      0.000       0.000       0.000\n",
       "EM_to_total_education_expanses_10y                   -1.4263      0.020    -71.281      0.000      -1.466      -1.387\n",
       "scholar_nutrition_to_total_education_expanses_11y    -0.0921      0.001    -71.633      0.000      -0.095      -0.090\n",
       "EM_to_total_education_expanses_14y                    0.7460      0.017     43.190      0.000       0.712       0.780\n",
       "education_to_overall_expanses_14y                     0.1991      0.021      9.439      0.000       0.158       0.240\n",
       "education_to_overall_expanses_11y                    -0.1266      0.017     -7.429      0.000      -0.160      -0.093\n",
       "EF_investment_per_student_13y                        -0.0095      0.001    -13.380      0.000      -0.011      -0.008\n",
       "education_to_overall_expanses_10y                    -0.0792      0.011     -7.320      0.000      -0.100      -0.058\n",
       "==============================================================================\n",
       "Omnibus:                    74393.415   Durbin-Watson:                   1.974\n",
       "Prob(Omnibus):                  0.000   Jarque-Bera (JB):            81987.050\n",
       "Skew:                           0.465   Prob(JB):                         0.00\n",
       "Kurtosis:                       3.110   Cond. No.                     1.09e+16\n",
       "==============================================================================\n",
       "\n",
       "Notes:\n",
       "[1] R² is computed without centering (uncentered) since the model does not contain a constant.\n",
       "[2] Standard Errors assume that the covariance matrix of the errors is correctly specified.\n",
       "[3] The condition number is large, 1.09e+16. This might indicate that there are\n",
       "strong multicollinearity or other numerical problems.\n",
       "\"\"\""
      ]
     },
     "execution_count": 31,
     "metadata": {},
     "output_type": "execute_result"
    }
   ],
   "source": [
    "LR.summary()"
   ]
  },
  {
   "cell_type": "code",
   "execution_count": 52,
   "metadata": {},
   "outputs": [],
   "source": [
    "pca = PCA(n_components = 2)"
   ]
  },
  {
   "cell_type": "code",
   "execution_count": 66,
   "metadata": {},
   "outputs": [],
   "source": [
    "X = df2.dropna().drop(columns = \"Average score\")"
   ]
  },
  {
   "cell_type": "code",
   "execution_count": 78,
   "metadata": {},
   "outputs": [
    {
     "data": {
      "text/html": [
       "<div>\n",
       "<style scoped>\n",
       "    .dataframe tbody tr th:only-of-type {\n",
       "        vertical-align: middle;\n",
       "    }\n",
       "\n",
       "    .dataframe tbody tr th {\n",
       "        vertical-align: top;\n",
       "    }\n",
       "\n",
       "    .dataframe thead th {\n",
       "        text-align: right;\n",
       "    }\n",
       "</style>\n",
       "<table border=\"1\" class=\"dataframe\">\n",
       "  <thead>\n",
       "    <tr style=\"text-align: right;\">\n",
       "      <th></th>\n",
       "      <th>EB_expanses_teacher_per_student_10y</th>\n",
       "      <th>EB_expanses_teacher_per_student_11y</th>\n",
       "      <th>EB_expanses_teacher_per_student_13y</th>\n",
       "      <th>EB_expanses_teacher_per_student_14y</th>\n",
       "      <th>EB_investment_per_student_10y</th>\n",
       "      <th>EB_investment_per_student_11y</th>\n",
       "      <th>EB_investment_per_student_13y</th>\n",
       "      <th>EB_investment_per_student_14y</th>\n",
       "      <th>EB_non_teaching_staff_per_student_expanses_10y</th>\n",
       "      <th>EB_non_teaching_staff_per_student_expanses_11y</th>\n",
       "      <th>...</th>\n",
       "      <th>investment_per_student_11y</th>\n",
       "      <th>investment_per_student_13y</th>\n",
       "      <th>investment_per_student_14y</th>\n",
       "      <th>scholar_nutrition_to_total_education_expanses_10y</th>\n",
       "      <th>scholar_nutrition_to_total_education_expanses_11y</th>\n",
       "      <th>scholar_nutrition_to_total_education_expanses_13y</th>\n",
       "      <th>scholar_nutrition_to_total_education_expanses_14y</th>\n",
       "      <th>superavit_or_deficit_10y</th>\n",
       "      <th>superavit_or_deficit_11y</th>\n",
       "      <th>superavit_or_deficit_13y</th>\n",
       "    </tr>\n",
       "  </thead>\n",
       "  <tbody>\n",
       "    <tr>\n",
       "      <th>0</th>\n",
       "      <td>-0.901255</td>\n",
       "      <td>-0.786599</td>\n",
       "      <td>-0.424458</td>\n",
       "      <td>-0.551737</td>\n",
       "      <td>-1.014261</td>\n",
       "      <td>-1.182568</td>\n",
       "      <td>-1.302216</td>\n",
       "      <td>-0.574407</td>\n",
       "      <td>-0.806896</td>\n",
       "      <td>-1.074084</td>\n",
       "      <td>...</td>\n",
       "      <td>-0.641540</td>\n",
       "      <td>-0.804533</td>\n",
       "      <td>-0.72402</td>\n",
       "      <td>-0.438841</td>\n",
       "      <td>-0.556234</td>\n",
       "      <td>0.205156</td>\n",
       "      <td>0.368740</td>\n",
       "      <td>0.950952</td>\n",
       "      <td>0.236334</td>\n",
       "      <td>0.435673</td>\n",
       "    </tr>\n",
       "    <tr>\n",
       "      <th>1</th>\n",
       "      <td>-0.901255</td>\n",
       "      <td>-0.786599</td>\n",
       "      <td>-0.424458</td>\n",
       "      <td>-0.551737</td>\n",
       "      <td>-1.014261</td>\n",
       "      <td>-1.182568</td>\n",
       "      <td>-1.302216</td>\n",
       "      <td>-0.574407</td>\n",
       "      <td>-0.806896</td>\n",
       "      <td>-1.074084</td>\n",
       "      <td>...</td>\n",
       "      <td>-0.641540</td>\n",
       "      <td>-0.804533</td>\n",
       "      <td>-0.72402</td>\n",
       "      <td>-0.438841</td>\n",
       "      <td>-0.556234</td>\n",
       "      <td>0.205156</td>\n",
       "      <td>0.368740</td>\n",
       "      <td>0.950952</td>\n",
       "      <td>0.236334</td>\n",
       "      <td>0.435673</td>\n",
       "    </tr>\n",
       "    <tr>\n",
       "      <th>2</th>\n",
       "      <td>-0.901255</td>\n",
       "      <td>-0.786599</td>\n",
       "      <td>-0.424458</td>\n",
       "      <td>-0.551737</td>\n",
       "      <td>-1.014261</td>\n",
       "      <td>-1.182568</td>\n",
       "      <td>-1.302216</td>\n",
       "      <td>-0.574407</td>\n",
       "      <td>-0.806896</td>\n",
       "      <td>-1.074084</td>\n",
       "      <td>...</td>\n",
       "      <td>-0.641540</td>\n",
       "      <td>-0.804533</td>\n",
       "      <td>-0.72402</td>\n",
       "      <td>-0.438841</td>\n",
       "      <td>-0.556234</td>\n",
       "      <td>0.205156</td>\n",
       "      <td>0.368740</td>\n",
       "      <td>0.950952</td>\n",
       "      <td>0.236334</td>\n",
       "      <td>0.435673</td>\n",
       "    </tr>\n",
       "    <tr>\n",
       "      <th>3</th>\n",
       "      <td>-0.901255</td>\n",
       "      <td>-0.786599</td>\n",
       "      <td>-0.424458</td>\n",
       "      <td>-0.551737</td>\n",
       "      <td>-1.014261</td>\n",
       "      <td>-1.182568</td>\n",
       "      <td>-1.302216</td>\n",
       "      <td>-0.574407</td>\n",
       "      <td>-0.806896</td>\n",
       "      <td>-1.074084</td>\n",
       "      <td>...</td>\n",
       "      <td>-0.641540</td>\n",
       "      <td>-0.804533</td>\n",
       "      <td>-0.72402</td>\n",
       "      <td>-0.438841</td>\n",
       "      <td>-0.556234</td>\n",
       "      <td>0.205156</td>\n",
       "      <td>0.368740</td>\n",
       "      <td>0.950952</td>\n",
       "      <td>0.236334</td>\n",
       "      <td>0.435673</td>\n",
       "    </tr>\n",
       "    <tr>\n",
       "      <th>4</th>\n",
       "      <td>-0.901255</td>\n",
       "      <td>-0.786599</td>\n",
       "      <td>-0.424458</td>\n",
       "      <td>-0.551737</td>\n",
       "      <td>-1.014261</td>\n",
       "      <td>-1.182568</td>\n",
       "      <td>-1.302216</td>\n",
       "      <td>-0.574407</td>\n",
       "      <td>-0.806896</td>\n",
       "      <td>-1.074084</td>\n",
       "      <td>...</td>\n",
       "      <td>-0.641540</td>\n",
       "      <td>-0.804533</td>\n",
       "      <td>-0.72402</td>\n",
       "      <td>-0.438841</td>\n",
       "      <td>-0.556234</td>\n",
       "      <td>0.205156</td>\n",
       "      <td>0.368740</td>\n",
       "      <td>0.950952</td>\n",
       "      <td>0.236334</td>\n",
       "      <td>0.435673</td>\n",
       "    </tr>\n",
       "    <tr>\n",
       "      <th>...</th>\n",
       "      <td>...</td>\n",
       "      <td>...</td>\n",
       "      <td>...</td>\n",
       "      <td>...</td>\n",
       "      <td>...</td>\n",
       "      <td>...</td>\n",
       "      <td>...</td>\n",
       "      <td>...</td>\n",
       "      <td>...</td>\n",
       "      <td>...</td>\n",
       "      <td>...</td>\n",
       "      <td>...</td>\n",
       "      <td>...</td>\n",
       "      <td>...</td>\n",
       "      <td>...</td>\n",
       "      <td>...</td>\n",
       "      <td>...</td>\n",
       "      <td>...</td>\n",
       "      <td>...</td>\n",
       "      <td>...</td>\n",
       "      <td>...</td>\n",
       "    </tr>\n",
       "    <tr>\n",
       "      <th>2245644</th>\n",
       "      <td>0.942524</td>\n",
       "      <td>0.770604</td>\n",
       "      <td>1.552635</td>\n",
       "      <td>1.849444</td>\n",
       "      <td>1.561117</td>\n",
       "      <td>1.598204</td>\n",
       "      <td>3.265694</td>\n",
       "      <td>4.199940</td>\n",
       "      <td>1.014844</td>\n",
       "      <td>-0.208161</td>\n",
       "      <td>...</td>\n",
       "      <td>1.217519</td>\n",
       "      <td>2.586292</td>\n",
       "      <td>3.16065</td>\n",
       "      <td>0.264710</td>\n",
       "      <td>2.420585</td>\n",
       "      <td>5.252958</td>\n",
       "      <td>-0.339435</td>\n",
       "      <td>-0.702288</td>\n",
       "      <td>0.706715</td>\n",
       "      <td>0.496979</td>\n",
       "    </tr>\n",
       "    <tr>\n",
       "      <th>2245645</th>\n",
       "      <td>0.942524</td>\n",
       "      <td>0.770604</td>\n",
       "      <td>1.552635</td>\n",
       "      <td>1.849444</td>\n",
       "      <td>1.561117</td>\n",
       "      <td>1.598204</td>\n",
       "      <td>3.265694</td>\n",
       "      <td>4.199940</td>\n",
       "      <td>1.014844</td>\n",
       "      <td>-0.208161</td>\n",
       "      <td>...</td>\n",
       "      <td>1.217519</td>\n",
       "      <td>2.586292</td>\n",
       "      <td>3.16065</td>\n",
       "      <td>0.264710</td>\n",
       "      <td>2.420585</td>\n",
       "      <td>5.252958</td>\n",
       "      <td>-0.339435</td>\n",
       "      <td>-0.702288</td>\n",
       "      <td>0.706715</td>\n",
       "      <td>0.496979</td>\n",
       "    </tr>\n",
       "    <tr>\n",
       "      <th>2245646</th>\n",
       "      <td>0.942524</td>\n",
       "      <td>0.770604</td>\n",
       "      <td>1.552635</td>\n",
       "      <td>1.849444</td>\n",
       "      <td>1.561117</td>\n",
       "      <td>1.598204</td>\n",
       "      <td>3.265694</td>\n",
       "      <td>4.199940</td>\n",
       "      <td>1.014844</td>\n",
       "      <td>-0.208161</td>\n",
       "      <td>...</td>\n",
       "      <td>1.217519</td>\n",
       "      <td>2.586292</td>\n",
       "      <td>3.16065</td>\n",
       "      <td>0.264710</td>\n",
       "      <td>2.420585</td>\n",
       "      <td>5.252958</td>\n",
       "      <td>-0.339435</td>\n",
       "      <td>-0.702288</td>\n",
       "      <td>0.706715</td>\n",
       "      <td>0.496979</td>\n",
       "    </tr>\n",
       "    <tr>\n",
       "      <th>2245647</th>\n",
       "      <td>0.942524</td>\n",
       "      <td>0.770604</td>\n",
       "      <td>1.552635</td>\n",
       "      <td>1.849444</td>\n",
       "      <td>1.561117</td>\n",
       "      <td>1.598204</td>\n",
       "      <td>3.265694</td>\n",
       "      <td>4.199940</td>\n",
       "      <td>1.014844</td>\n",
       "      <td>-0.208161</td>\n",
       "      <td>...</td>\n",
       "      <td>1.217519</td>\n",
       "      <td>2.586292</td>\n",
       "      <td>3.16065</td>\n",
       "      <td>0.264710</td>\n",
       "      <td>2.420585</td>\n",
       "      <td>5.252958</td>\n",
       "      <td>-0.339435</td>\n",
       "      <td>-0.702288</td>\n",
       "      <td>0.706715</td>\n",
       "      <td>0.496979</td>\n",
       "    </tr>\n",
       "    <tr>\n",
       "      <th>2245648</th>\n",
       "      <td>0.942524</td>\n",
       "      <td>0.770604</td>\n",
       "      <td>1.552635</td>\n",
       "      <td>1.849444</td>\n",
       "      <td>1.561117</td>\n",
       "      <td>1.598204</td>\n",
       "      <td>3.265694</td>\n",
       "      <td>4.199940</td>\n",
       "      <td>1.014844</td>\n",
       "      <td>-0.208161</td>\n",
       "      <td>...</td>\n",
       "      <td>1.217519</td>\n",
       "      <td>2.586292</td>\n",
       "      <td>3.16065</td>\n",
       "      <td>0.264710</td>\n",
       "      <td>2.420585</td>\n",
       "      <td>5.252958</td>\n",
       "      <td>-0.339435</td>\n",
       "      <td>-0.702288</td>\n",
       "      <td>0.706715</td>\n",
       "      <td>0.496979</td>\n",
       "    </tr>\n",
       "  </tbody>\n",
       "</table>\n",
       "<p>2245649 rows × 78 columns</p>\n",
       "</div>"
      ],
      "text/plain": [
       "         EB_expanses_teacher_per_student_10y  \\\n",
       "0                                  -0.901255   \n",
       "1                                  -0.901255   \n",
       "2                                  -0.901255   \n",
       "3                                  -0.901255   \n",
       "4                                  -0.901255   \n",
       "...                                      ...   \n",
       "2245644                             0.942524   \n",
       "2245645                             0.942524   \n",
       "2245646                             0.942524   \n",
       "2245647                             0.942524   \n",
       "2245648                             0.942524   \n",
       "\n",
       "         EB_expanses_teacher_per_student_11y  \\\n",
       "0                                  -0.786599   \n",
       "1                                  -0.786599   \n",
       "2                                  -0.786599   \n",
       "3                                  -0.786599   \n",
       "4                                  -0.786599   \n",
       "...                                      ...   \n",
       "2245644                             0.770604   \n",
       "2245645                             0.770604   \n",
       "2245646                             0.770604   \n",
       "2245647                             0.770604   \n",
       "2245648                             0.770604   \n",
       "\n",
       "         EB_expanses_teacher_per_student_13y  \\\n",
       "0                                  -0.424458   \n",
       "1                                  -0.424458   \n",
       "2                                  -0.424458   \n",
       "3                                  -0.424458   \n",
       "4                                  -0.424458   \n",
       "...                                      ...   \n",
       "2245644                             1.552635   \n",
       "2245645                             1.552635   \n",
       "2245646                             1.552635   \n",
       "2245647                             1.552635   \n",
       "2245648                             1.552635   \n",
       "\n",
       "         EB_expanses_teacher_per_student_14y  EB_investment_per_student_10y  \\\n",
       "0                                  -0.551737                      -1.014261   \n",
       "1                                  -0.551737                      -1.014261   \n",
       "2                                  -0.551737                      -1.014261   \n",
       "3                                  -0.551737                      -1.014261   \n",
       "4                                  -0.551737                      -1.014261   \n",
       "...                                      ...                            ...   \n",
       "2245644                             1.849444                       1.561117   \n",
       "2245645                             1.849444                       1.561117   \n",
       "2245646                             1.849444                       1.561117   \n",
       "2245647                             1.849444                       1.561117   \n",
       "2245648                             1.849444                       1.561117   \n",
       "\n",
       "         EB_investment_per_student_11y  EB_investment_per_student_13y  \\\n",
       "0                            -1.182568                      -1.302216   \n",
       "1                            -1.182568                      -1.302216   \n",
       "2                            -1.182568                      -1.302216   \n",
       "3                            -1.182568                      -1.302216   \n",
       "4                            -1.182568                      -1.302216   \n",
       "...                                ...                            ...   \n",
       "2245644                       1.598204                       3.265694   \n",
       "2245645                       1.598204                       3.265694   \n",
       "2245646                       1.598204                       3.265694   \n",
       "2245647                       1.598204                       3.265694   \n",
       "2245648                       1.598204                       3.265694   \n",
       "\n",
       "         EB_investment_per_student_14y  \\\n",
       "0                            -0.574407   \n",
       "1                            -0.574407   \n",
       "2                            -0.574407   \n",
       "3                            -0.574407   \n",
       "4                            -0.574407   \n",
       "...                                ...   \n",
       "2245644                       4.199940   \n",
       "2245645                       4.199940   \n",
       "2245646                       4.199940   \n",
       "2245647                       4.199940   \n",
       "2245648                       4.199940   \n",
       "\n",
       "         EB_non_teaching_staff_per_student_expanses_10y  \\\n",
       "0                                             -0.806896   \n",
       "1                                             -0.806896   \n",
       "2                                             -0.806896   \n",
       "3                                             -0.806896   \n",
       "4                                             -0.806896   \n",
       "...                                                 ...   \n",
       "2245644                                        1.014844   \n",
       "2245645                                        1.014844   \n",
       "2245646                                        1.014844   \n",
       "2245647                                        1.014844   \n",
       "2245648                                        1.014844   \n",
       "\n",
       "         EB_non_teaching_staff_per_student_expanses_11y  ...  \\\n",
       "0                                             -1.074084  ...   \n",
       "1                                             -1.074084  ...   \n",
       "2                                             -1.074084  ...   \n",
       "3                                             -1.074084  ...   \n",
       "4                                             -1.074084  ...   \n",
       "...                                                 ...  ...   \n",
       "2245644                                       -0.208161  ...   \n",
       "2245645                                       -0.208161  ...   \n",
       "2245646                                       -0.208161  ...   \n",
       "2245647                                       -0.208161  ...   \n",
       "2245648                                       -0.208161  ...   \n",
       "\n",
       "         investment_per_student_11y  investment_per_student_13y  \\\n",
       "0                         -0.641540                   -0.804533   \n",
       "1                         -0.641540                   -0.804533   \n",
       "2                         -0.641540                   -0.804533   \n",
       "3                         -0.641540                   -0.804533   \n",
       "4                         -0.641540                   -0.804533   \n",
       "...                             ...                         ...   \n",
       "2245644                    1.217519                    2.586292   \n",
       "2245645                    1.217519                    2.586292   \n",
       "2245646                    1.217519                    2.586292   \n",
       "2245647                    1.217519                    2.586292   \n",
       "2245648                    1.217519                    2.586292   \n",
       "\n",
       "         investment_per_student_14y  \\\n",
       "0                          -0.72402   \n",
       "1                          -0.72402   \n",
       "2                          -0.72402   \n",
       "3                          -0.72402   \n",
       "4                          -0.72402   \n",
       "...                             ...   \n",
       "2245644                     3.16065   \n",
       "2245645                     3.16065   \n",
       "2245646                     3.16065   \n",
       "2245647                     3.16065   \n",
       "2245648                     3.16065   \n",
       "\n",
       "         scholar_nutrition_to_total_education_expanses_10y  \\\n",
       "0                                                -0.438841   \n",
       "1                                                -0.438841   \n",
       "2                                                -0.438841   \n",
       "3                                                -0.438841   \n",
       "4                                                -0.438841   \n",
       "...                                                    ...   \n",
       "2245644                                           0.264710   \n",
       "2245645                                           0.264710   \n",
       "2245646                                           0.264710   \n",
       "2245647                                           0.264710   \n",
       "2245648                                           0.264710   \n",
       "\n",
       "         scholar_nutrition_to_total_education_expanses_11y  \\\n",
       "0                                                -0.556234   \n",
       "1                                                -0.556234   \n",
       "2                                                -0.556234   \n",
       "3                                                -0.556234   \n",
       "4                                                -0.556234   \n",
       "...                                                    ...   \n",
       "2245644                                           2.420585   \n",
       "2245645                                           2.420585   \n",
       "2245646                                           2.420585   \n",
       "2245647                                           2.420585   \n",
       "2245648                                           2.420585   \n",
       "\n",
       "         scholar_nutrition_to_total_education_expanses_13y  \\\n",
       "0                                                 0.205156   \n",
       "1                                                 0.205156   \n",
       "2                                                 0.205156   \n",
       "3                                                 0.205156   \n",
       "4                                                 0.205156   \n",
       "...                                                    ...   \n",
       "2245644                                           5.252958   \n",
       "2245645                                           5.252958   \n",
       "2245646                                           5.252958   \n",
       "2245647                                           5.252958   \n",
       "2245648                                           5.252958   \n",
       "\n",
       "         scholar_nutrition_to_total_education_expanses_14y  \\\n",
       "0                                                 0.368740   \n",
       "1                                                 0.368740   \n",
       "2                                                 0.368740   \n",
       "3                                                 0.368740   \n",
       "4                                                 0.368740   \n",
       "...                                                    ...   \n",
       "2245644                                          -0.339435   \n",
       "2245645                                          -0.339435   \n",
       "2245646                                          -0.339435   \n",
       "2245647                                          -0.339435   \n",
       "2245648                                          -0.339435   \n",
       "\n",
       "         superavit_or_deficit_10y  superavit_or_deficit_11y  \\\n",
       "0                        0.950952                  0.236334   \n",
       "1                        0.950952                  0.236334   \n",
       "2                        0.950952                  0.236334   \n",
       "3                        0.950952                  0.236334   \n",
       "4                        0.950952                  0.236334   \n",
       "...                           ...                       ...   \n",
       "2245644                 -0.702288                  0.706715   \n",
       "2245645                 -0.702288                  0.706715   \n",
       "2245646                 -0.702288                  0.706715   \n",
       "2245647                 -0.702288                  0.706715   \n",
       "2245648                 -0.702288                  0.706715   \n",
       "\n",
       "         superavit_or_deficit_13y  \n",
       "0                        0.435673  \n",
       "1                        0.435673  \n",
       "2                        0.435673  \n",
       "3                        0.435673  \n",
       "4                        0.435673  \n",
       "...                           ...  \n",
       "2245644                  0.496979  \n",
       "2245645                  0.496979  \n",
       "2245646                  0.496979  \n",
       "2245647                  0.496979  \n",
       "2245648                  0.496979  \n",
       "\n",
       "[2245649 rows x 78 columns]"
      ]
     },
     "execution_count": 78,
     "metadata": {},
     "output_type": "execute_result"
    }
   ],
   "source": [
    "X"
   ]
  },
  {
   "cell_type": "code",
   "execution_count": 76,
   "metadata": {},
   "outputs": [
    {
     "data": {
      "text/plain": [
       "EB_expanses_teacher_per_student_10y                  False\n",
       "EB_expanses_teacher_per_student_11y                  False\n",
       "EB_expanses_teacher_per_student_13y                  False\n",
       "EB_expanses_teacher_per_student_14y                  False\n",
       "EB_investment_per_student_10y                        False\n",
       "                                                     ...  \n",
       "scholar_nutrition_to_total_education_expanses_13y    False\n",
       "scholar_nutrition_to_total_education_expanses_14y    False\n",
       "superavit_or_deficit_10y                             False\n",
       "superavit_or_deficit_11y                             False\n",
       "superavit_or_deficit_13y                             False\n",
       "Length: 78, dtype: bool"
      ]
     },
     "execution_count": 76,
     "metadata": {},
     "output_type": "execute_result"
    }
   ],
   "source": [
    "(X.isna().sum() > 0)"
   ]
  },
  {
   "cell_type": "code",
   "execution_count": 79,
   "metadata": {},
   "outputs": [
    {
     "data": {
      "text/html": [
       "<style>#sk-container-id-4 {color: black;}#sk-container-id-4 pre{padding: 0;}#sk-container-id-4 div.sk-toggleable {background-color: white;}#sk-container-id-4 label.sk-toggleable__label {cursor: pointer;display: block;width: 100%;margin-bottom: 0;padding: 0.3em;box-sizing: border-box;text-align: center;}#sk-container-id-4 label.sk-toggleable__label-arrow:before {content: \"▸\";float: left;margin-right: 0.25em;color: #696969;}#sk-container-id-4 label.sk-toggleable__label-arrow:hover:before {color: black;}#sk-container-id-4 div.sk-estimator:hover label.sk-toggleable__label-arrow:before {color: black;}#sk-container-id-4 div.sk-toggleable__content {max-height: 0;max-width: 0;overflow: hidden;text-align: left;background-color: #f0f8ff;}#sk-container-id-4 div.sk-toggleable__content pre {margin: 0.2em;color: black;border-radius: 0.25em;background-color: #f0f8ff;}#sk-container-id-4 input.sk-toggleable__control:checked~div.sk-toggleable__content {max-height: 200px;max-width: 100%;overflow: auto;}#sk-container-id-4 input.sk-toggleable__control:checked~label.sk-toggleable__label-arrow:before {content: \"▾\";}#sk-container-id-4 div.sk-estimator input.sk-toggleable__control:checked~label.sk-toggleable__label {background-color: #d4ebff;}#sk-container-id-4 div.sk-label input.sk-toggleable__control:checked~label.sk-toggleable__label {background-color: #d4ebff;}#sk-container-id-4 input.sk-hidden--visually {border: 0;clip: rect(1px 1px 1px 1px);clip: rect(1px, 1px, 1px, 1px);height: 1px;margin: -1px;overflow: hidden;padding: 0;position: absolute;width: 1px;}#sk-container-id-4 div.sk-estimator {font-family: monospace;background-color: #f0f8ff;border: 1px dotted black;border-radius: 0.25em;box-sizing: border-box;margin-bottom: 0.5em;}#sk-container-id-4 div.sk-estimator:hover {background-color: #d4ebff;}#sk-container-id-4 div.sk-parallel-item::after {content: \"\";width: 100%;border-bottom: 1px solid gray;flex-grow: 1;}#sk-container-id-4 div.sk-label:hover label.sk-toggleable__label {background-color: #d4ebff;}#sk-container-id-4 div.sk-serial::before {content: \"\";position: absolute;border-left: 1px solid gray;box-sizing: border-box;top: 0;bottom: 0;left: 50%;z-index: 0;}#sk-container-id-4 div.sk-serial {display: flex;flex-direction: column;align-items: center;background-color: white;padding-right: 0.2em;padding-left: 0.2em;position: relative;}#sk-container-id-4 div.sk-item {position: relative;z-index: 1;}#sk-container-id-4 div.sk-parallel {display: flex;align-items: stretch;justify-content: center;background-color: white;position: relative;}#sk-container-id-4 div.sk-item::before, #sk-container-id-4 div.sk-parallel-item::before {content: \"\";position: absolute;border-left: 1px solid gray;box-sizing: border-box;top: 0;bottom: 0;left: 50%;z-index: -1;}#sk-container-id-4 div.sk-parallel-item {display: flex;flex-direction: column;z-index: 1;position: relative;background-color: white;}#sk-container-id-4 div.sk-parallel-item:first-child::after {align-self: flex-end;width: 50%;}#sk-container-id-4 div.sk-parallel-item:last-child::after {align-self: flex-start;width: 50%;}#sk-container-id-4 div.sk-parallel-item:only-child::after {width: 0;}#sk-container-id-4 div.sk-dashed-wrapped {border: 1px dashed gray;margin: 0 0.4em 0.5em 0.4em;box-sizing: border-box;padding-bottom: 0.4em;background-color: white;}#sk-container-id-4 div.sk-label label {font-family: monospace;font-weight: bold;display: inline-block;line-height: 1.2em;}#sk-container-id-4 div.sk-label-container {text-align: center;}#sk-container-id-4 div.sk-container {/* jupyter's `normalize.less` sets `[hidden] { display: none; }` but bootstrap.min.css set `[hidden] { display: none !important; }` so we also need the `!important` here to be able to override the default hidden behavior on the sphinx rendered scikit-learn.org. See: https://github.com/scikit-learn/scikit-learn/issues/21755 */display: inline-block !important;position: relative;}#sk-container-id-4 div.sk-text-repr-fallback {display: none;}</style><div id=\"sk-container-id-4\" class=\"sk-top-container\"><div class=\"sk-text-repr-fallback\"><pre>PCA(n_components=2)</pre><b>In a Jupyter environment, please rerun this cell to show the HTML representation or trust the notebook. <br />On GitHub, the HTML representation is unable to render, please try loading this page with nbviewer.org.</b></div><div class=\"sk-container\" hidden><div class=\"sk-item\"><div class=\"sk-estimator sk-toggleable\"><input class=\"sk-toggleable__control sk-hidden--visually\" id=\"sk-estimator-id-4\" type=\"checkbox\" checked><label for=\"sk-estimator-id-4\" class=\"sk-toggleable__label sk-toggleable__label-arrow\">PCA</label><div class=\"sk-toggleable__content\"><pre>PCA(n_components=2)</pre></div></div></div></div></div>"
      ],
      "text/plain": [
       "PCA(n_components=2)"
      ]
     },
     "execution_count": 79,
     "metadata": {},
     "output_type": "execute_result"
    }
   ],
   "source": [
    "X = df2\n",
    "X = ((X - X.mean())/X.std()).drop(columns = \"Average score\")\n",
    "X.dropna(axis = 1, inplace = True)\n",
    "pca.fit(X)"
   ]
  },
  {
   "cell_type": "code",
   "execution_count": 80,
   "metadata": {},
   "outputs": [
    {
     "data": {
      "text/plain": [
       "array([0.25838708, 0.16606282])"
      ]
     },
     "execution_count": 80,
     "metadata": {},
     "output_type": "execute_result"
    }
   ],
   "source": [
    "pca.explained_variance_ratio_"
   ]
  },
  {
   "cell_type": "code",
   "execution_count": 81,
   "metadata": {},
   "outputs": [],
   "source": [
    "LR =  OLS(df[\"Average score\"],\n",
    "          exog = pca.transform(X), hasconst = False).fit() "
   ]
  },
  {
   "cell_type": "code",
   "execution_count": 82,
   "metadata": {},
   "outputs": [
    {
     "data": {
      "text/html": [
       "<table class=\"simpletable\">\n",
       "<caption>OLS Regression Results</caption>\n",
       "<tr>\n",
       "  <th>Dep. Variable:</th>      <td>Average score</td>  <th>  R-squared (uncentered):</th>       <td>   0.000</td>  \n",
       "</tr>\n",
       "<tr>\n",
       "  <th>Model:</th>                   <td>OLS</td>       <th>  Adj. R-squared (uncentered):</th>  <td>   0.000</td>  \n",
       "</tr>\n",
       "<tr>\n",
       "  <th>Method:</th>             <td>Least Squares</td>  <th>  F-statistic:       </th>           <td>   373.2</td>  \n",
       "</tr>\n",
       "<tr>\n",
       "  <th>Date:</th>             <td>Sat, 03 Feb 2024</td> <th>  Prob (F-statistic):</th>           <td>8.79e-163</td> \n",
       "</tr>\n",
       "<tr>\n",
       "  <th>Time:</th>                 <td>13:14:39</td>     <th>  Log-Likelihood:    </th>          <td>-1.7273e+07</td>\n",
       "</tr>\n",
       "<tr>\n",
       "  <th>No. Observations:</th>      <td>2245649</td>     <th>  AIC:               </th>           <td>3.455e+07</td> \n",
       "</tr>\n",
       "<tr>\n",
       "  <th>Df Residuals:</th>          <td>2245647</td>     <th>  BIC:               </th>           <td>3.455e+07</td> \n",
       "</tr>\n",
       "<tr>\n",
       "  <th>Df Model:</th>              <td>     2</td>      <th>                     </th>               <td> </td>     \n",
       "</tr>\n",
       "<tr>\n",
       "  <th>Covariance Type:</th>      <td>nonrobust</td>    <th>                     </th>               <td> </td>     \n",
       "</tr>\n",
       "</table>\n",
       "<table class=\"simpletable\">\n",
       "<tr>\n",
       "   <td></td>     <th>coef</th>     <th>std err</th>      <th>t</th>      <th>P>|t|</th>  <th>[0.025</th>    <th>0.975]</th>  \n",
       "</tr>\n",
       "<tr>\n",
       "  <th>x1</th> <td>    1.5862</td> <td>    0.080</td> <td>   19.874</td> <td> 0.000</td> <td>    1.430</td> <td>    1.743</td>\n",
       "</tr>\n",
       "<tr>\n",
       "  <th>x2</th> <td>    1.8664</td> <td>    0.100</td> <td>   18.747</td> <td> 0.000</td> <td>    1.671</td> <td>    2.062</td>\n",
       "</tr>\n",
       "</table>\n",
       "<table class=\"simpletable\">\n",
       "<tr>\n",
       "  <th>Omnibus:</th>       <td>65874.853</td> <th>  Durbin-Watson:     </th> <td>   0.034</td> \n",
       "</tr>\n",
       "<tr>\n",
       "  <th>Prob(Omnibus):</th>  <td> 0.000</td>   <th>  Jarque-Bera (JB):  </th> <td>71876.277</td>\n",
       "</tr>\n",
       "<tr>\n",
       "  <th>Skew:</th>           <td> 0.438</td>   <th>  Prob(JB):          </th> <td>    0.00</td> \n",
       "</tr>\n",
       "<tr>\n",
       "  <th>Kurtosis:</th>       <td> 3.014</td>   <th>  Cond. No.          </th> <td>    1.25</td> \n",
       "</tr>\n",
       "</table><br/><br/>Notes:<br/>[1] R² is computed without centering (uncentered) since the model does not contain a constant.<br/>[2] Standard Errors assume that the covariance matrix of the errors is correctly specified."
      ],
      "text/plain": [
       "<class 'statsmodels.iolib.summary.Summary'>\n",
       "\"\"\"\n",
       "                                 OLS Regression Results                                \n",
       "=======================================================================================\n",
       "Dep. Variable:          Average score   R-squared (uncentered):                   0.000\n",
       "Model:                            OLS   Adj. R-squared (uncentered):              0.000\n",
       "Method:                 Least Squares   F-statistic:                              373.2\n",
       "Date:                Sat, 03 Feb 2024   Prob (F-statistic):                   8.79e-163\n",
       "Time:                        13:14:39   Log-Likelihood:                     -1.7273e+07\n",
       "No. Observations:             2245649   AIC:                                  3.455e+07\n",
       "Df Residuals:                 2245647   BIC:                                  3.455e+07\n",
       "Df Model:                           2                                                  \n",
       "Covariance Type:            nonrobust                                                  \n",
       "==============================================================================\n",
       "                 coef    std err          t      P>|t|      [0.025      0.975]\n",
       "------------------------------------------------------------------------------\n",
       "x1             1.5862      0.080     19.874      0.000       1.430       1.743\n",
       "x2             1.8664      0.100     18.747      0.000       1.671       2.062\n",
       "==============================================================================\n",
       "Omnibus:                    65874.853   Durbin-Watson:                   0.034\n",
       "Prob(Omnibus):                  0.000   Jarque-Bera (JB):            71876.277\n",
       "Skew:                           0.438   Prob(JB):                         0.00\n",
       "Kurtosis:                       3.014   Cond. No.                         1.25\n",
       "==============================================================================\n",
       "\n",
       "Notes:\n",
       "[1] R² is computed without centering (uncentered) since the model does not contain a constant.\n",
       "[2] Standard Errors assume that the covariance matrix of the errors is correctly specified.\n",
       "\"\"\""
      ]
     },
     "execution_count": 82,
     "metadata": {},
     "output_type": "execute_result"
    }
   ],
   "source": [
    "LR.summary()"
   ]
  },
  {
   "cell_type": "code",
   "execution_count": 83,
   "metadata": {},
   "outputs": [
    {
     "data": {
      "text/plain": [
       "[<matplotlib.lines.Line2D at 0x21796c46bb0>]"
      ]
     },
     "execution_count": 83,
     "metadata": {},
     "output_type": "execute_result"
    },
    {
     "data": {
      "image/png": "[encoded data removed]",
      "text/plain": [
       "<Figure size 432x288 with 1 Axes>"
      ]
     },
     "metadata": {
      "needs_background": "light"
     },
     "output_type": "display_data"
    }
   ],
   "source": [
    "y_pred = LR.predict(pca.transform(X))\n",
    "y_true = df[\"Average score\"]\n",
    "plt.scatter(y_true, y_pred)\n",
    "plt.plot(y_true, y_true, '-.r')"
   ]
  },
  {
   "cell_type": "code",
   "execution_count": 51,
   "metadata": {},
   "outputs": [
    {
     "data": {
      "text/plain": [
       "[<matplotlib.lines.Line2D at 0x21795921cd0>]"
      ]
     },
     "execution_count": 51,
     "metadata": {},
     "output_type": "execute_result"
    },
    {
     "data": {
      "image/png": "[encoded data removed]",
      "text/plain": [
       "<Figure size 432x288 with 1 Axes>"
      ]
     },
     "metadata": {
      "needs_background": "light"
     },
     "output_type": "display_data"
    }
   ],
   "source": [
    "y_pred = LR.predict(pca.transform(X))\n",
    "y_true = df[\"Average score\"]\n",
    "plt.scatter(y_true, y_pred)\n",
    "plt.plot(y_true, y_true, '-.r')"
   ]
  },
  {
   "cell_type": "code",
   "execution_count": 46,
   "metadata": {},
   "outputs": [
    {
     "data": {
      "text/html": [
       "<table class=\"simpletable\">\n",
       "<caption>OLS Regression Results</caption>\n",
       "<tr>\n",
       "  <th>Dep. Variable:</th>      <td>Average score</td>  <th>  R-squared (uncentered):</th>       <td>   0.000</td>  \n",
       "</tr>\n",
       "<tr>\n",
       "  <th>Model:</th>                   <td>OLS</td>       <th>  Adj. R-squared (uncentered):</th>  <td>   0.000</td>  \n",
       "</tr>\n",
       "<tr>\n",
       "  <th>Method:</th>             <td>Least Squares</td>  <th>  F-statistic:       </th>           <td>   141.9</td>  \n",
       "</tr>\n",
       "<tr>\n",
       "  <th>Date:</th>             <td>Sat, 03 Feb 2024</td> <th>  Prob (F-statistic):</th>           <td>4.50e-151</td> \n",
       "</tr>\n",
       "<tr>\n",
       "  <th>Time:</th>                 <td>13:03:05</td>     <th>  Log-Likelihood:    </th>          <td>-1.7273e+07</td>\n",
       "</tr>\n",
       "<tr>\n",
       "  <th>No. Observations:</th>      <td>2245649</td>     <th>  AIC:               </th>           <td>3.455e+07</td> \n",
       "</tr>\n",
       "<tr>\n",
       "  <th>Df Residuals:</th>          <td>2245644</td>     <th>  BIC:               </th>           <td>3.455e+07</td> \n",
       "</tr>\n",
       "<tr>\n",
       "  <th>Df Model:</th>              <td>     5</td>      <th>                     </th>               <td> </td>     \n",
       "</tr>\n",
       "<tr>\n",
       "  <th>Covariance Type:</th>      <td>nonrobust</td>    <th>                     </th>               <td> </td>     \n",
       "</tr>\n",
       "</table>\n",
       "<table class=\"simpletable\">\n",
       "<tr>\n",
       "   <td></td>     <th>coef</th>     <th>std err</th>      <th>t</th>      <th>P>|t|</th>  <th>[0.025</th>    <th>0.975]</th>  \n",
       "</tr>\n",
       "<tr>\n",
       "  <th>x1</th> <td> 8.291e-10</td> <td>  1.7e-10</td> <td>    4.890</td> <td> 0.000</td> <td> 4.97e-10</td> <td> 1.16e-09</td>\n",
       "</tr>\n",
       "<tr>\n",
       "  <th>x2</th> <td>-7.319e-09</td> <td> 3.22e-10</td> <td>  -22.737</td> <td> 0.000</td> <td>-7.95e-09</td> <td>-6.69e-09</td>\n",
       "</tr>\n",
       "<tr>\n",
       "  <th>x3</th> <td> 4.379e-09</td> <td> 5.62e-10</td> <td>    7.796</td> <td> 0.000</td> <td> 3.28e-09</td> <td> 5.48e-09</td>\n",
       "</tr>\n",
       "<tr>\n",
       "  <th>x4</th> <td>-1.345e-09</td> <td> 6.86e-10</td> <td>   -1.962</td> <td> 0.050</td> <td>-2.69e-09</td> <td>-1.12e-12</td>\n",
       "</tr>\n",
       "<tr>\n",
       "  <th>x5</th> <td> 5.578e-08</td> <td> 5.47e-09</td> <td>   10.199</td> <td> 0.000</td> <td> 4.51e-08</td> <td> 6.65e-08</td>\n",
       "</tr>\n",
       "</table>\n",
       "<table class=\"simpletable\">\n",
       "<tr>\n",
       "  <th>Omnibus:</th>       <td>68795.957</td> <th>  Durbin-Watson:     </th> <td>   0.034</td> \n",
       "</tr>\n",
       "<tr>\n",
       "  <th>Prob(Omnibus):</th>  <td> 0.000</td>   <th>  Jarque-Bera (JB):  </th> <td>75349.230</td>\n",
       "</tr>\n",
       "<tr>\n",
       "  <th>Skew:</th>           <td> 0.449</td>   <th>  Prob(JB):          </th> <td>    0.00</td> \n",
       "</tr>\n",
       "<tr>\n",
       "  <th>Kurtosis:</th>       <td> 3.019</td>   <th>  Cond. No.          </th> <td>    32.3</td> \n",
       "</tr>\n",
       "</table><br/><br/>Notes:<br/>[1] R² is computed without centering (uncentered) since the model does not contain a constant.<br/>[2] Standard Errors assume that the covariance matrix of the errors is correctly specified."
      ],
      "text/plain": [
       "<class 'statsmodels.iolib.summary.Summary'>\n",
       "\"\"\"\n",
       "                                 OLS Regression Results                                \n",
       "=======================================================================================\n",
       "Dep. Variable:          Average score   R-squared (uncentered):                   0.000\n",
       "Model:                            OLS   Adj. R-squared (uncentered):              0.000\n",
       "Method:                 Least Squares   F-statistic:                              141.9\n",
       "Date:                Sat, 03 Feb 2024   Prob (F-statistic):                   4.50e-151\n",
       "Time:                        13:03:05   Log-Likelihood:                     -1.7273e+07\n",
       "No. Observations:             2245649   AIC:                                  3.455e+07\n",
       "Df Residuals:                 2245644   BIC:                                  3.455e+07\n",
       "Df Model:                           5                                                  \n",
       "Covariance Type:            nonrobust                                                  \n",
       "==============================================================================\n",
       "                 coef    std err          t      P>|t|      [0.025      0.975]\n",
       "------------------------------------------------------------------------------\n",
       "x1          8.291e-10    1.7e-10      4.890      0.000    4.97e-10    1.16e-09\n",
       "x2         -7.319e-09   3.22e-10    -22.737      0.000   -7.95e-09   -6.69e-09\n",
       "x3          4.379e-09   5.62e-10      7.796      0.000    3.28e-09    5.48e-09\n",
       "x4         -1.345e-09   6.86e-10     -1.962      0.050   -2.69e-09   -1.12e-12\n",
       "x5          5.578e-08   5.47e-09     10.199      0.000    4.51e-08    6.65e-08\n",
       "==============================================================================\n",
       "Omnibus:                    68795.957   Durbin-Watson:                   0.034\n",
       "Prob(Omnibus):                  0.000   Jarque-Bera (JB):            75349.230\n",
       "Skew:                           0.449   Prob(JB):                         0.00\n",
       "Kurtosis:                       3.019   Cond. No.                         32.3\n",
       "==============================================================================\n",
       "\n",
       "Notes:\n",
       "[1] R² is computed without centering (uncentered) since the model does not contain a constant.\n",
       "[2] Standard Errors assume that the covariance matrix of the errors is correctly specified.\n",
       "\"\"\""
      ]
     },
     "execution_count": 46,
     "metadata": {},
     "output_type": "execute_result"
    }
   ],
   "source": [
    "LR.summary()"
   ]
  },
  {
   "cell_type": "code",
   "execution_count": null,
   "metadata": {},
   "outputs": [],
   "source": []
  }
 ],
 "metadata": {
  "kernelspec": {
   "display_name": "base",
   "language": "python",
   "name": "python3"
  },
  "language_info": {
   "codemirror_mode": {
    "name": "ipython",
    "version": 3
   },
   "file_extension": ".py",
   "mimetype": "text/x-python",
   "name": "python",
   "nbconvert_exporter": "python",
   "pygments_lexer": "ipython3",
   "version": "3.8.5"
  }
 },
 "nbformat": 4,
 "nbformat_minor": 2
}
